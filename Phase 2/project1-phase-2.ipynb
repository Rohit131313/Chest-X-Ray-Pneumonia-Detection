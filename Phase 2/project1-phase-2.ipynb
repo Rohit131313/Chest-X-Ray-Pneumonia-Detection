{
 "cells": [
  {
   "cell_type": "code",
   "execution_count": 1,
   "id": "e4895fbd",
   "metadata": {
    "execution": {
     "iopub.execute_input": "2024-03-13T18:00:14.387841Z",
     "iopub.status.busy": "2024-03-13T18:00:14.387510Z",
     "iopub.status.idle": "2024-03-13T18:00:29.064888Z",
     "shell.execute_reply": "2024-03-13T18:00:29.063773Z"
    },
    "papermill": {
     "duration": 14.689588,
     "end_time": "2024-03-13T18:00:29.067579",
     "exception": false,
     "start_time": "2024-03-13T18:00:14.377991",
     "status": "completed"
    },
    "tags": []
   },
   "outputs": [
    {
     "name": "stderr",
     "output_type": "stream",
     "text": [
      "2024-03-13 18:00:16.606138: E external/local_xla/xla/stream_executor/cuda/cuda_dnn.cc:9261] Unable to register cuDNN factory: Attempting to register factory for plugin cuDNN when one has already been registered\n",
      "2024-03-13 18:00:16.606244: E external/local_xla/xla/stream_executor/cuda/cuda_fft.cc:607] Unable to register cuFFT factory: Attempting to register factory for plugin cuFFT when one has already been registered\n",
      "2024-03-13 18:00:16.785765: E external/local_xla/xla/stream_executor/cuda/cuda_blas.cc:1515] Unable to register cuBLAS factory: Attempting to register factory for plugin cuBLAS when one has already been registered\n"
     ]
    }
   ],
   "source": [
    "# kaggle notebook link https://www.kaggle.com/code/rohit1313/project1-phase-2\n",
    "\n",
    "from tensorflow.keras.preprocessing.image import ImageDataGenerator  # using this we can make the image of normal folder refer to normal output label and similary for pneumonia folder\n",
    "from tensorflow.keras.preprocessing import image\n",
    "import matplotlib.pyplot as plt\n",
    "import tensorflow as tf\n",
    "import numpy as np\n",
    "import cv2\n",
    "import math\n",
    "import os\n",
    "import pandas as pd"
   ]
  },
  {
   "cell_type": "code",
   "execution_count": 2,
   "id": "1da5e3a5",
   "metadata": {
    "execution": {
     "iopub.execute_input": "2024-03-13T18:00:29.087362Z",
     "iopub.status.busy": "2024-03-13T18:00:29.086785Z",
     "iopub.status.idle": "2024-03-13T18:00:29.095822Z",
     "shell.execute_reply": "2024-03-13T18:00:29.094756Z"
    },
    "papermill": {
     "duration": 0.021275,
     "end_time": "2024-03-13T18:00:29.098283",
     "exception": false,
     "start_time": "2024-03-13T18:00:29.077008",
     "status": "completed"
    },
    "tags": []
   },
   "outputs": [
    {
     "name": "stdout",
     "output_type": "stream",
     "text": [
      "Number of replicas: 1\n",
      "2.15.0\n"
     ]
    }
   ],
   "source": [
    "try:\n",
    "    tpu = tf.distribute.cluster_resolver.TPUClusterResolver()\n",
    "    print('Device:', tpu.master())\n",
    "    tf.config.experimental_connect_to_cluster(tpu)\n",
    "    tf.tpu.experimental.initialize_tpu_system(tpu)\n",
    "    strategy = tf.distribute.experimental.TPUStrategy(tpu)\n",
    "except:\n",
    "    strategy = tf.distribute.get_strategy()\n",
    "print('Number of replicas:', strategy.num_replicas_in_sync)\n",
    "    \n",
    "print(tf.__version__)"
   ]
  },
  {
   "cell_type": "code",
   "execution_count": 3,
   "id": "33e736f8",
   "metadata": {
    "execution": {
     "iopub.execute_input": "2024-03-13T18:00:29.117220Z",
     "iopub.status.busy": "2024-03-13T18:00:29.116890Z",
     "iopub.status.idle": "2024-03-13T18:00:29.325763Z",
     "shell.execute_reply": "2024-03-13T18:00:29.324707Z"
    },
    "papermill": {
     "duration": 0.220935,
     "end_time": "2024-03-13T18:00:29.328210",
     "exception": false,
     "start_time": "2024-03-13T18:00:29.107275",
     "status": "completed"
    },
    "tags": []
   },
   "outputs": [],
   "source": [
    "train_data_path = '../input/d/paultimothymooney/chest-xray-pneumonia/chest_xray/train'\n",
    "filepaths = []\n",
    "labels = []\n",
    "\n",
    "folds = os.listdir(train_data_path)\n",
    "for fold in folds:\n",
    "    foldpath = os.path.join(train_data_path, fold)\n",
    "    filelist = os.listdir(foldpath)\n",
    "    \n",
    "    for file in filelist:\n",
    "        fpath = os.path.join(foldpath, file)\n",
    "        filepaths.append(fpath)\n",
    "        labels.append(fold)\n",
    "        \n",
    "FSeries = pd.Series(filepaths, name='filepaths')\n",
    "LSeries = pd.Series(labels, name='label')\n",
    "\n",
    "df = pd.concat([FSeries, LSeries], axis=1)"
   ]
  },
  {
   "cell_type": "code",
   "execution_count": 4,
   "id": "ce6bf7d8",
   "metadata": {
    "execution": {
     "iopub.execute_input": "2024-03-13T18:00:29.346174Z",
     "iopub.status.busy": "2024-03-13T18:00:29.345862Z",
     "iopub.status.idle": "2024-03-13T18:00:29.363698Z",
     "shell.execute_reply": "2024-03-13T18:00:29.362772Z"
    },
    "papermill": {
     "duration": 0.028501,
     "end_time": "2024-03-13T18:00:29.365592",
     "exception": false,
     "start_time": "2024-03-13T18:00:29.337091",
     "status": "completed"
    },
    "tags": []
   },
   "outputs": [
    {
     "data": {
      "text/html": [
       "<div>\n",
       "<style scoped>\n",
       "    .dataframe tbody tr th:only-of-type {\n",
       "        vertical-align: middle;\n",
       "    }\n",
       "\n",
       "    .dataframe tbody tr th {\n",
       "        vertical-align: top;\n",
       "    }\n",
       "\n",
       "    .dataframe thead th {\n",
       "        text-align: right;\n",
       "    }\n",
       "</style>\n",
       "<table border=\"1\" class=\"dataframe\">\n",
       "  <thead>\n",
       "    <tr style=\"text-align: right;\">\n",
       "      <th></th>\n",
       "      <th>filepaths</th>\n",
       "      <th>label</th>\n",
       "    </tr>\n",
       "  </thead>\n",
       "  <tbody>\n",
       "    <tr>\n",
       "      <th>0</th>\n",
       "      <td>../input/d/paultimothymooney/chest-xray-pneumo...</td>\n",
       "      <td>PNEUMONIA</td>\n",
       "    </tr>\n",
       "    <tr>\n",
       "      <th>1</th>\n",
       "      <td>../input/d/paultimothymooney/chest-xray-pneumo...</td>\n",
       "      <td>PNEUMONIA</td>\n",
       "    </tr>\n",
       "    <tr>\n",
       "      <th>2</th>\n",
       "      <td>../input/d/paultimothymooney/chest-xray-pneumo...</td>\n",
       "      <td>PNEUMONIA</td>\n",
       "    </tr>\n",
       "    <tr>\n",
       "      <th>3</th>\n",
       "      <td>../input/d/paultimothymooney/chest-xray-pneumo...</td>\n",
       "      <td>PNEUMONIA</td>\n",
       "    </tr>\n",
       "    <tr>\n",
       "      <th>4</th>\n",
       "      <td>../input/d/paultimothymooney/chest-xray-pneumo...</td>\n",
       "      <td>PNEUMONIA</td>\n",
       "    </tr>\n",
       "    <tr>\n",
       "      <th>...</th>\n",
       "      <td>...</td>\n",
       "      <td>...</td>\n",
       "    </tr>\n",
       "    <tr>\n",
       "      <th>5211</th>\n",
       "      <td>../input/d/paultimothymooney/chest-xray-pneumo...</td>\n",
       "      <td>NORMAL</td>\n",
       "    </tr>\n",
       "    <tr>\n",
       "      <th>5212</th>\n",
       "      <td>../input/d/paultimothymooney/chest-xray-pneumo...</td>\n",
       "      <td>NORMAL</td>\n",
       "    </tr>\n",
       "    <tr>\n",
       "      <th>5213</th>\n",
       "      <td>../input/d/paultimothymooney/chest-xray-pneumo...</td>\n",
       "      <td>NORMAL</td>\n",
       "    </tr>\n",
       "    <tr>\n",
       "      <th>5214</th>\n",
       "      <td>../input/d/paultimothymooney/chest-xray-pneumo...</td>\n",
       "      <td>NORMAL</td>\n",
       "    </tr>\n",
       "    <tr>\n",
       "      <th>5215</th>\n",
       "      <td>../input/d/paultimothymooney/chest-xray-pneumo...</td>\n",
       "      <td>NORMAL</td>\n",
       "    </tr>\n",
       "  </tbody>\n",
       "</table>\n",
       "<p>5216 rows × 2 columns</p>\n",
       "</div>"
      ],
      "text/plain": [
       "                                              filepaths      label\n",
       "0     ../input/d/paultimothymooney/chest-xray-pneumo...  PNEUMONIA\n",
       "1     ../input/d/paultimothymooney/chest-xray-pneumo...  PNEUMONIA\n",
       "2     ../input/d/paultimothymooney/chest-xray-pneumo...  PNEUMONIA\n",
       "3     ../input/d/paultimothymooney/chest-xray-pneumo...  PNEUMONIA\n",
       "4     ../input/d/paultimothymooney/chest-xray-pneumo...  PNEUMONIA\n",
       "...                                                 ...        ...\n",
       "5211  ../input/d/paultimothymooney/chest-xray-pneumo...     NORMAL\n",
       "5212  ../input/d/paultimothymooney/chest-xray-pneumo...     NORMAL\n",
       "5213  ../input/d/paultimothymooney/chest-xray-pneumo...     NORMAL\n",
       "5214  ../input/d/paultimothymooney/chest-xray-pneumo...     NORMAL\n",
       "5215  ../input/d/paultimothymooney/chest-xray-pneumo...     NORMAL\n",
       "\n",
       "[5216 rows x 2 columns]"
      ]
     },
     "execution_count": 4,
     "metadata": {},
     "output_type": "execute_result"
    }
   ],
   "source": [
    "df"
   ]
  },
  {
   "cell_type": "code",
   "execution_count": 5,
   "id": "5c4b5c4e",
   "metadata": {
    "execution": {
     "iopub.execute_input": "2024-03-13T18:00:29.382977Z",
     "iopub.status.busy": "2024-03-13T18:00:29.382699Z",
     "iopub.status.idle": "2024-03-13T18:00:29.401842Z",
     "shell.execute_reply": "2024-03-13T18:00:29.400962Z"
    },
    "papermill": {
     "duration": 0.029926,
     "end_time": "2024-03-13T18:00:29.403861",
     "exception": false,
     "start_time": "2024-03-13T18:00:29.373935",
     "status": "completed"
    },
    "tags": []
   },
   "outputs": [],
   "source": [
    "valid_data_dir = '../input/d/paultimothymooney/chest-xray-pneumonia/chest_xray/val'\n",
    "filepaths = []\n",
    "labels = []\n",
    "\n",
    "folds = os.listdir(valid_data_dir)\n",
    "for fold in folds:\n",
    "    foldpath = os.path.join(valid_data_dir, fold)\n",
    "    filelist = os.listdir(foldpath)\n",
    "    \n",
    "    for file in filelist:\n",
    "        fpath = os.path.join(foldpath, file)\n",
    "        \n",
    "        filepaths.append(fpath)\n",
    "        labels.append(fold)\n",
    "        \n",
    "FSeries = pd.Series(filepaths, name='filepaths')\n",
    "LSeries = pd.Series(labels, name='label')\n",
    "\n",
    "valid = pd.concat([FSeries, LSeries], axis=1)"
   ]
  },
  {
   "cell_type": "code",
   "execution_count": 6,
   "id": "c7e02bf3",
   "metadata": {
    "execution": {
     "iopub.execute_input": "2024-03-13T18:00:29.421797Z",
     "iopub.status.busy": "2024-03-13T18:00:29.421558Z",
     "iopub.status.idle": "2024-03-13T18:00:29.430781Z",
     "shell.execute_reply": "2024-03-13T18:00:29.429984Z"
    },
    "papermill": {
     "duration": 0.023194,
     "end_time": "2024-03-13T18:00:29.436022",
     "exception": false,
     "start_time": "2024-03-13T18:00:29.412828",
     "status": "completed"
    },
    "tags": []
   },
   "outputs": [
    {
     "data": {
      "text/html": [
       "<div>\n",
       "<style scoped>\n",
       "    .dataframe tbody tr th:only-of-type {\n",
       "        vertical-align: middle;\n",
       "    }\n",
       "\n",
       "    .dataframe tbody tr th {\n",
       "        vertical-align: top;\n",
       "    }\n",
       "\n",
       "    .dataframe thead th {\n",
       "        text-align: right;\n",
       "    }\n",
       "</style>\n",
       "<table border=\"1\" class=\"dataframe\">\n",
       "  <thead>\n",
       "    <tr style=\"text-align: right;\">\n",
       "      <th></th>\n",
       "      <th>filepaths</th>\n",
       "      <th>label</th>\n",
       "    </tr>\n",
       "  </thead>\n",
       "  <tbody>\n",
       "    <tr>\n",
       "      <th>0</th>\n",
       "      <td>../input/d/paultimothymooney/chest-xray-pneumo...</td>\n",
       "      <td>PNEUMONIA</td>\n",
       "    </tr>\n",
       "    <tr>\n",
       "      <th>1</th>\n",
       "      <td>../input/d/paultimothymooney/chest-xray-pneumo...</td>\n",
       "      <td>PNEUMONIA</td>\n",
       "    </tr>\n",
       "    <tr>\n",
       "      <th>2</th>\n",
       "      <td>../input/d/paultimothymooney/chest-xray-pneumo...</td>\n",
       "      <td>PNEUMONIA</td>\n",
       "    </tr>\n",
       "    <tr>\n",
       "      <th>3</th>\n",
       "      <td>../input/d/paultimothymooney/chest-xray-pneumo...</td>\n",
       "      <td>PNEUMONIA</td>\n",
       "    </tr>\n",
       "    <tr>\n",
       "      <th>4</th>\n",
       "      <td>../input/d/paultimothymooney/chest-xray-pneumo...</td>\n",
       "      <td>PNEUMONIA</td>\n",
       "    </tr>\n",
       "    <tr>\n",
       "      <th>5</th>\n",
       "      <td>../input/d/paultimothymooney/chest-xray-pneumo...</td>\n",
       "      <td>PNEUMONIA</td>\n",
       "    </tr>\n",
       "    <tr>\n",
       "      <th>6</th>\n",
       "      <td>../input/d/paultimothymooney/chest-xray-pneumo...</td>\n",
       "      <td>PNEUMONIA</td>\n",
       "    </tr>\n",
       "    <tr>\n",
       "      <th>7</th>\n",
       "      <td>../input/d/paultimothymooney/chest-xray-pneumo...</td>\n",
       "      <td>PNEUMONIA</td>\n",
       "    </tr>\n",
       "    <tr>\n",
       "      <th>8</th>\n",
       "      <td>../input/d/paultimothymooney/chest-xray-pneumo...</td>\n",
       "      <td>NORMAL</td>\n",
       "    </tr>\n",
       "    <tr>\n",
       "      <th>9</th>\n",
       "      <td>../input/d/paultimothymooney/chest-xray-pneumo...</td>\n",
       "      <td>NORMAL</td>\n",
       "    </tr>\n",
       "    <tr>\n",
       "      <th>10</th>\n",
       "      <td>../input/d/paultimothymooney/chest-xray-pneumo...</td>\n",
       "      <td>NORMAL</td>\n",
       "    </tr>\n",
       "    <tr>\n",
       "      <th>11</th>\n",
       "      <td>../input/d/paultimothymooney/chest-xray-pneumo...</td>\n",
       "      <td>NORMAL</td>\n",
       "    </tr>\n",
       "    <tr>\n",
       "      <th>12</th>\n",
       "      <td>../input/d/paultimothymooney/chest-xray-pneumo...</td>\n",
       "      <td>NORMAL</td>\n",
       "    </tr>\n",
       "    <tr>\n",
       "      <th>13</th>\n",
       "      <td>../input/d/paultimothymooney/chest-xray-pneumo...</td>\n",
       "      <td>NORMAL</td>\n",
       "    </tr>\n",
       "    <tr>\n",
       "      <th>14</th>\n",
       "      <td>../input/d/paultimothymooney/chest-xray-pneumo...</td>\n",
       "      <td>NORMAL</td>\n",
       "    </tr>\n",
       "    <tr>\n",
       "      <th>15</th>\n",
       "      <td>../input/d/paultimothymooney/chest-xray-pneumo...</td>\n",
       "      <td>NORMAL</td>\n",
       "    </tr>\n",
       "  </tbody>\n",
       "</table>\n",
       "</div>"
      ],
      "text/plain": [
       "                                            filepaths      label\n",
       "0   ../input/d/paultimothymooney/chest-xray-pneumo...  PNEUMONIA\n",
       "1   ../input/d/paultimothymooney/chest-xray-pneumo...  PNEUMONIA\n",
       "2   ../input/d/paultimothymooney/chest-xray-pneumo...  PNEUMONIA\n",
       "3   ../input/d/paultimothymooney/chest-xray-pneumo...  PNEUMONIA\n",
       "4   ../input/d/paultimothymooney/chest-xray-pneumo...  PNEUMONIA\n",
       "5   ../input/d/paultimothymooney/chest-xray-pneumo...  PNEUMONIA\n",
       "6   ../input/d/paultimothymooney/chest-xray-pneumo...  PNEUMONIA\n",
       "7   ../input/d/paultimothymooney/chest-xray-pneumo...  PNEUMONIA\n",
       "8   ../input/d/paultimothymooney/chest-xray-pneumo...     NORMAL\n",
       "9   ../input/d/paultimothymooney/chest-xray-pneumo...     NORMAL\n",
       "10  ../input/d/paultimothymooney/chest-xray-pneumo...     NORMAL\n",
       "11  ../input/d/paultimothymooney/chest-xray-pneumo...     NORMAL\n",
       "12  ../input/d/paultimothymooney/chest-xray-pneumo...     NORMAL\n",
       "13  ../input/d/paultimothymooney/chest-xray-pneumo...     NORMAL\n",
       "14  ../input/d/paultimothymooney/chest-xray-pneumo...     NORMAL\n",
       "15  ../input/d/paultimothymooney/chest-xray-pneumo...     NORMAL"
      ]
     },
     "execution_count": 6,
     "metadata": {},
     "output_type": "execute_result"
    }
   ],
   "source": [
    "valid"
   ]
  },
  {
   "cell_type": "code",
   "execution_count": 7,
   "id": "18f6faeb",
   "metadata": {
    "execution": {
     "iopub.execute_input": "2024-03-13T18:00:29.455517Z",
     "iopub.status.busy": "2024-03-13T18:00:29.455276Z",
     "iopub.status.idle": "2024-03-13T18:00:29.512298Z",
     "shell.execute_reply": "2024-03-13T18:00:29.511609Z"
    },
    "papermill": {
     "duration": 0.067922,
     "end_time": "2024-03-13T18:00:29.514206",
     "exception": false,
     "start_time": "2024-03-13T18:00:29.446284",
     "status": "completed"
    },
    "tags": []
   },
   "outputs": [],
   "source": [
    "test_data_dir = '../input/d/paultimothymooney/chest-xray-pneumonia/chest_xray/test'\n",
    "filepaths = []\n",
    "labels = []\n",
    "\n",
    "folds = os.listdir(test_data_dir)\n",
    "\n",
    "for fold in folds:\n",
    "    foldpath = os.path.join(test_data_dir, fold)\n",
    "    filelist = os.listdir(foldpath)\n",
    "    \n",
    "    for file in filelist:\n",
    "        fpath = os.path.join(foldpath, file)\n",
    "        \n",
    "        filepaths.append(fpath)\n",
    "        labels.append(fold)\n",
    "        \n",
    "FSeries = pd.Series(filepaths, name='filepaths')\n",
    "LSeries = pd.Series(labels, name='label')\n",
    "\n",
    "test = pd.concat([FSeries, LSeries], axis=1)"
   ]
  },
  {
   "cell_type": "code",
   "execution_count": 8,
   "id": "394df6ff",
   "metadata": {
    "execution": {
     "iopub.execute_input": "2024-03-13T18:00:29.532176Z",
     "iopub.status.busy": "2024-03-13T18:00:29.531887Z",
     "iopub.status.idle": "2024-03-13T18:00:29.541841Z",
     "shell.execute_reply": "2024-03-13T18:00:29.541008Z"
    },
    "papermill": {
     "duration": 0.021637,
     "end_time": "2024-03-13T18:00:29.544177",
     "exception": false,
     "start_time": "2024-03-13T18:00:29.522540",
     "status": "completed"
    },
    "tags": []
   },
   "outputs": [
    {
     "data": {
      "text/html": [
       "<div>\n",
       "<style scoped>\n",
       "    .dataframe tbody tr th:only-of-type {\n",
       "        vertical-align: middle;\n",
       "    }\n",
       "\n",
       "    .dataframe tbody tr th {\n",
       "        vertical-align: top;\n",
       "    }\n",
       "\n",
       "    .dataframe thead th {\n",
       "        text-align: right;\n",
       "    }\n",
       "</style>\n",
       "<table border=\"1\" class=\"dataframe\">\n",
       "  <thead>\n",
       "    <tr style=\"text-align: right;\">\n",
       "      <th></th>\n",
       "      <th>filepaths</th>\n",
       "      <th>label</th>\n",
       "    </tr>\n",
       "  </thead>\n",
       "  <tbody>\n",
       "    <tr>\n",
       "      <th>0</th>\n",
       "      <td>../input/d/paultimothymooney/chest-xray-pneumo...</td>\n",
       "      <td>PNEUMONIA</td>\n",
       "    </tr>\n",
       "    <tr>\n",
       "      <th>1</th>\n",
       "      <td>../input/d/paultimothymooney/chest-xray-pneumo...</td>\n",
       "      <td>PNEUMONIA</td>\n",
       "    </tr>\n",
       "    <tr>\n",
       "      <th>2</th>\n",
       "      <td>../input/d/paultimothymooney/chest-xray-pneumo...</td>\n",
       "      <td>PNEUMONIA</td>\n",
       "    </tr>\n",
       "    <tr>\n",
       "      <th>3</th>\n",
       "      <td>../input/d/paultimothymooney/chest-xray-pneumo...</td>\n",
       "      <td>PNEUMONIA</td>\n",
       "    </tr>\n",
       "    <tr>\n",
       "      <th>4</th>\n",
       "      <td>../input/d/paultimothymooney/chest-xray-pneumo...</td>\n",
       "      <td>PNEUMONIA</td>\n",
       "    </tr>\n",
       "    <tr>\n",
       "      <th>...</th>\n",
       "      <td>...</td>\n",
       "      <td>...</td>\n",
       "    </tr>\n",
       "    <tr>\n",
       "      <th>619</th>\n",
       "      <td>../input/d/paultimothymooney/chest-xray-pneumo...</td>\n",
       "      <td>NORMAL</td>\n",
       "    </tr>\n",
       "    <tr>\n",
       "      <th>620</th>\n",
       "      <td>../input/d/paultimothymooney/chest-xray-pneumo...</td>\n",
       "      <td>NORMAL</td>\n",
       "    </tr>\n",
       "    <tr>\n",
       "      <th>621</th>\n",
       "      <td>../input/d/paultimothymooney/chest-xray-pneumo...</td>\n",
       "      <td>NORMAL</td>\n",
       "    </tr>\n",
       "    <tr>\n",
       "      <th>622</th>\n",
       "      <td>../input/d/paultimothymooney/chest-xray-pneumo...</td>\n",
       "      <td>NORMAL</td>\n",
       "    </tr>\n",
       "    <tr>\n",
       "      <th>623</th>\n",
       "      <td>../input/d/paultimothymooney/chest-xray-pneumo...</td>\n",
       "      <td>NORMAL</td>\n",
       "    </tr>\n",
       "  </tbody>\n",
       "</table>\n",
       "<p>624 rows × 2 columns</p>\n",
       "</div>"
      ],
      "text/plain": [
       "                                             filepaths      label\n",
       "0    ../input/d/paultimothymooney/chest-xray-pneumo...  PNEUMONIA\n",
       "1    ../input/d/paultimothymooney/chest-xray-pneumo...  PNEUMONIA\n",
       "2    ../input/d/paultimothymooney/chest-xray-pneumo...  PNEUMONIA\n",
       "3    ../input/d/paultimothymooney/chest-xray-pneumo...  PNEUMONIA\n",
       "4    ../input/d/paultimothymooney/chest-xray-pneumo...  PNEUMONIA\n",
       "..                                                 ...        ...\n",
       "619  ../input/d/paultimothymooney/chest-xray-pneumo...     NORMAL\n",
       "620  ../input/d/paultimothymooney/chest-xray-pneumo...     NORMAL\n",
       "621  ../input/d/paultimothymooney/chest-xray-pneumo...     NORMAL\n",
       "622  ../input/d/paultimothymooney/chest-xray-pneumo...     NORMAL\n",
       "623  ../input/d/paultimothymooney/chest-xray-pneumo...     NORMAL\n",
       "\n",
       "[624 rows x 2 columns]"
      ]
     },
     "execution_count": 8,
     "metadata": {},
     "output_type": "execute_result"
    }
   ],
   "source": [
    "test"
   ]
  },
  {
   "cell_type": "code",
   "execution_count": 9,
   "id": "95e04f88",
   "metadata": {
    "execution": {
     "iopub.execute_input": "2024-03-13T18:00:29.563417Z",
     "iopub.status.busy": "2024-03-13T18:00:29.563167Z",
     "iopub.status.idle": "2024-03-13T18:00:30.545869Z",
     "shell.execute_reply": "2024-03-13T18:00:30.544801Z"
    },
    "papermill": {
     "duration": 0.99477,
     "end_time": "2024-03-13T18:00:30.548357",
     "exception": false,
     "start_time": "2024-03-13T18:00:29.553587",
     "status": "completed"
    },
    "tags": []
   },
   "outputs": [],
   "source": [
    "from sklearn.model_selection import train_test_split\n",
    "train_df, dummy_df = train_test_split(df, train_size=0.8, shuffle=True, random_state=42)\n",
    "valid_df, test_df = train_test_split(dummy_df, train_size=0.5, shuffle=True, random_state=42)"
   ]
  },
  {
   "cell_type": "code",
   "execution_count": 10,
   "id": "6a6b5fa3",
   "metadata": {
    "execution": {
     "iopub.execute_input": "2024-03-13T18:00:30.567290Z",
     "iopub.status.busy": "2024-03-13T18:00:30.566757Z",
     "iopub.status.idle": "2024-03-13T18:00:33.516421Z",
     "shell.execute_reply": "2024-03-13T18:00:33.515684Z"
    },
    "papermill": {
     "duration": 2.961136,
     "end_time": "2024-03-13T18:00:33.518389",
     "exception": false,
     "start_time": "2024-03-13T18:00:30.557253",
     "status": "completed"
    },
    "tags": []
   },
   "outputs": [
    {
     "name": "stdout",
     "output_type": "stream",
     "text": [
      "Found 4172 validated image filenames belonging to 2 classes.\n",
      "Found 522 validated image filenames belonging to 2 classes.\n",
      "Found 522 validated image filenames belonging to 2 classes.\n"
     ]
    }
   ],
   "source": [
    "# crobed image size\n",
    "batch_size = 16 * strategy.num_replicas_in_sync\n",
    "img_size = (180,180)\n",
    "\n",
    "tr_gen = ImageDataGenerator(rescale = 1./255)\n",
    "ts_gen = ImageDataGenerator(rescale = 1./255)\n",
    "val_gen= ImageDataGenerator(rescale = 1./255)\n",
    "\n",
    "train_dataset = tr_gen.flow_from_dataframe( train_df, x_col= 'filepaths', y_col= 'label', target_size= img_size, class_mode= 'binary',\n",
    "                                    color_mode= 'rgb', shuffle= True, batch_size= batch_size)\n",
    "\n",
    "val_dataset= val_gen.flow_from_dataframe( valid_df, x_col= 'filepaths', y_col= 'label', target_size= img_size, class_mode= 'binary',\n",
    "                                    color_mode= 'rgb', shuffle= True, batch_size= batch_size)\n",
    "\n",
    "test_dataset = ts_gen.flow_from_dataframe( test_df, x_col= 'filepaths', y_col= 'label', target_size= img_size, class_mode= 'binary',\n",
    "                                    color_mode= 'rgb', shuffle= False, batch_size= batch_size)"
   ]
  },
  {
   "cell_type": "code",
   "execution_count": 11,
   "id": "7709e92d",
   "metadata": {
    "execution": {
     "iopub.execute_input": "2024-03-13T18:00:33.537303Z",
     "iopub.status.busy": "2024-03-13T18:00:33.536976Z",
     "iopub.status.idle": "2024-03-13T18:00:33.541721Z",
     "shell.execute_reply": "2024-03-13T18:00:33.540830Z"
    },
    "papermill": {
     "duration": 0.016303,
     "end_time": "2024-03-13T18:00:33.543713",
     "exception": false,
     "start_time": "2024-03-13T18:00:33.527410",
     "status": "completed"
    },
    "tags": []
   },
   "outputs": [
    {
     "name": "stdout",
     "output_type": "stream",
     "text": [
      "Shape of data: (180, 180, 3)\n"
     ]
    }
   ],
   "source": [
    "# Assuming 'train_dataset' is your dataset object\n",
    "\n",
    "# Get the shape of the data\n",
    "data_shape = train_dataset.image_shape\n",
    "print(\"Shape of data:\", data_shape)\n"
   ]
  },
  {
   "cell_type": "code",
   "execution_count": 12,
   "id": "509f44b6",
   "metadata": {
    "execution": {
     "iopub.execute_input": "2024-03-13T18:00:33.562517Z",
     "iopub.status.busy": "2024-03-13T18:00:33.562250Z",
     "iopub.status.idle": "2024-03-13T18:00:33.568578Z",
     "shell.execute_reply": "2024-03-13T18:00:33.567808Z"
    },
    "papermill": {
     "duration": 0.017939,
     "end_time": "2024-03-13T18:00:33.570633",
     "exception": false,
     "start_time": "2024-03-13T18:00:33.552694",
     "status": "completed"
    },
    "tags": []
   },
   "outputs": [
    {
     "name": "stdout",
     "output_type": "stream",
     "text": [
      "Number of normal examples: 1050\n",
      "Number of pneumonia examples: 3122\n"
     ]
    }
   ],
   "source": [
    "# Assuming the class names are 'normal' and 'pneumonia'\n",
    "class_indices = train_dataset.class_indices\n",
    "\n",
    "# Count the number of examples for each class\n",
    "num_normal_examples = sum(1 for label in train_dataset.labels if label == class_indices['NORMAL'])\n",
    "num_pneumonia_examples = sum(1 for label in train_dataset.labels if label == class_indices['PNEUMONIA'])\n",
    "\n",
    "print(\"Number of normal examples:\", num_normal_examples)\n",
    "print(\"Number of pneumonia examples:\", num_pneumonia_examples)"
   ]
  },
  {
   "cell_type": "code",
   "execution_count": 13,
   "id": "f0a77492",
   "metadata": {
    "execution": {
     "iopub.execute_input": "2024-03-13T18:00:33.589441Z",
     "iopub.status.busy": "2024-03-13T18:00:33.589178Z",
     "iopub.status.idle": "2024-03-13T18:00:33.594687Z",
     "shell.execute_reply": "2024-03-13T18:00:33.593885Z"
    },
    "papermill": {
     "duration": 0.01689,
     "end_time": "2024-03-13T18:00:33.596456",
     "exception": false,
     "start_time": "2024-03-13T18:00:33.579566",
     "status": "completed"
    },
    "tags": []
   },
   "outputs": [
    {
     "data": {
      "text/plain": [
       "{'NORMAL': 0, 'PNEUMONIA': 1}"
      ]
     },
     "execution_count": 13,
     "metadata": {},
     "output_type": "execute_result"
    }
   ],
   "source": [
    "train_dataset.class_indices"
   ]
  },
  {
   "cell_type": "code",
   "execution_count": 14,
   "id": "4e735dbd",
   "metadata": {
    "execution": {
     "iopub.execute_input": "2024-03-13T18:00:33.616579Z",
     "iopub.status.busy": "2024-03-13T18:00:33.615811Z",
     "iopub.status.idle": "2024-03-13T18:00:33.619759Z",
     "shell.execute_reply": "2024-03-13T18:00:33.618860Z"
    },
    "papermill": {
     "duration": 0.016143,
     "end_time": "2024-03-13T18:00:33.621853",
     "exception": false,
     "start_time": "2024-03-13T18:00:33.605710",
     "status": "completed"
    },
    "tags": []
   },
   "outputs": [],
   "source": [
    "# train_dataset.classes"
   ]
  },
  {
   "cell_type": "markdown",
   "id": "46ec432d",
   "metadata": {
    "papermill": {
     "duration": 0.009836,
     "end_time": "2024-03-13T18:00:33.640943",
     "exception": false,
     "start_time": "2024-03-13T18:00:33.631107",
     "status": "completed"
    },
    "tags": []
   },
   "source": [
    "# Build the CNN"
   ]
  },
  {
   "cell_type": "code",
   "execution_count": 15,
   "id": "07d35855",
   "metadata": {
    "execution": {
     "iopub.execute_input": "2024-03-13T18:00:33.660730Z",
     "iopub.status.busy": "2024-03-13T18:00:33.660481Z",
     "iopub.status.idle": "2024-03-13T18:00:33.664277Z",
     "shell.execute_reply": "2024-03-13T18:00:33.663406Z"
    },
    "papermill": {
     "duration": 0.015918,
     "end_time": "2024-03-13T18:00:33.666274",
     "exception": false,
     "start_time": "2024-03-13T18:00:33.650356",
     "status": "completed"
    },
    "tags": []
   },
   "outputs": [],
   "source": [
    "# # Basic model\n",
    "# model = tf.keras.models.Sequential([\n",
    "#     tf.keras.layers.Flatten(), # Flatten layer to convert the input tensor to 1D (input layer)\n",
    "#     tf.keras.layers.Dense(64, activation=tf.nn.relu), # Hidden layer\n",
    "#     tf.keras.layers.Dense(1, activation=tf.nn.sigmoid) # Output layer\n",
    "# ])\n"
   ]
  },
  {
   "cell_type": "code",
   "execution_count": 16,
   "id": "aceaad60",
   "metadata": {
    "execution": {
     "iopub.execute_input": "2024-03-13T18:00:33.686486Z",
     "iopub.status.busy": "2024-03-13T18:00:33.685925Z",
     "iopub.status.idle": "2024-03-13T18:00:33.690755Z",
     "shell.execute_reply": "2024-03-13T18:00:33.689988Z"
    },
    "papermill": {
     "duration": 0.016787,
     "end_time": "2024-03-13T18:00:33.692575",
     "exception": false,
     "start_time": "2024-03-13T18:00:33.675788",
     "status": "completed"
    },
    "tags": []
   },
   "outputs": [],
   "source": [
    "def dense_block(units, dropout_rate):\n",
    "    block = tf.keras.Sequential([\n",
    "        tf.keras.layers.Dense(units, activation='relu'),\n",
    "        tf.keras.layers.BatchNormalization(),\n",
    "        tf.keras.layers.Dropout(dropout_rate)\n",
    "    ])\n",
    "    \n",
    "    return block"
   ]
  },
  {
   "cell_type": "code",
   "execution_count": 17,
   "id": "8237de83",
   "metadata": {
    "execution": {
     "iopub.execute_input": "2024-03-13T18:00:33.711954Z",
     "iopub.status.busy": "2024-03-13T18:00:33.711700Z",
     "iopub.status.idle": "2024-03-13T18:00:33.717666Z",
     "shell.execute_reply": "2024-03-13T18:00:33.716843Z"
    },
    "papermill": {
     "duration": 0.017572,
     "end_time": "2024-03-13T18:00:33.719565",
     "exception": false,
     "start_time": "2024-03-13T18:00:33.701993",
     "status": "completed"
    },
    "tags": []
   },
   "outputs": [],
   "source": [
    "def build_model():\n",
    "    model = tf.keras.Sequential([        \n",
    "        tf.keras.layers.Flatten(input_shape=(180,180,3)),\n",
    "        \n",
    "        # one without dropout layer in each case or favourable case (of which validation loss converge in better way then the random graph of validation graph\n",
    "        \n",
    "        dense_block(32,0.5), # and 0.2\n",
    "        dense_block(64,0.5),\n",
    "        dense_block(64,0.5),\n",
    "        dense_block(128,0.5),\n",
    "        dense_block(128,0.5),\n",
    "        dense_block(256,0.5),\n",
    "        dense_block(256,0.5),\n",
    "        dense_block(512,0.5),\n",
    "        dense_block(512,0.5),\n",
    "        dense_block(1024,0.5),\n",
    "        tf.keras.layers.Dense(1, activation='sigmoid')\n",
    "    ])\n",
    "    \n",
    "    return model\n"
   ]
  },
  {
   "cell_type": "markdown",
   "id": "7d5723c3",
   "metadata": {
    "papermill": {
     "duration": 0.008903,
     "end_time": "2024-03-13T18:00:33.737967",
     "exception": false,
     "start_time": "2024-03-13T18:00:33.729064",
     "status": "completed"
    },
    "tags": []
   },
   "source": [
    "# Train the model"
   ]
  },
  {
   "cell_type": "code",
   "execution_count": 18,
   "id": "f58d6497",
   "metadata": {
    "execution": {
     "iopub.execute_input": "2024-03-13T18:00:33.756848Z",
     "iopub.status.busy": "2024-03-13T18:00:33.756559Z",
     "iopub.status.idle": "2024-03-13T18:00:34.886722Z",
     "shell.execute_reply": "2024-03-13T18:00:34.885759Z"
    },
    "papermill": {
     "duration": 1.142046,
     "end_time": "2024-03-13T18:00:34.889037",
     "exception": false,
     "start_time": "2024-03-13T18:00:33.746991",
     "status": "completed"
    },
    "tags": []
   },
   "outputs": [
    {
     "name": "stderr",
     "output_type": "stream",
     "text": [
      "/opt/conda/lib/python3.10/site-packages/keras/src/layers/reshaping/flatten.py:37: UserWarning: Do not pass an `input_shape`/`input_dim` argument to a layer. When using Sequential models, prefer using an `Input(shape)` object as the first layer in the model instead.\n",
      "  super().__init__(**kwargs)\n"
     ]
    }
   ],
   "source": [
    "with strategy.scope():\n",
    "    model = build_model()\n",
    "\n",
    "    METRICS = [\n",
    "        'accuracy',\n",
    "        tf.keras.metrics.Precision(name='precision'),\n",
    "        tf.keras.metrics.Recall(name='recall'),\n",
    "        tf.keras.metrics.BinaryAccuracy(name='f1_score', threshold=0.5)\n",
    "    ]\n",
    "    \n",
    "    model.compile(\n",
    "        optimizer='adam',\n",
    "        loss='binary_crossentropy',\n",
    "        metrics=METRICS\n",
    "    )"
   ]
  },
  {
   "cell_type": "markdown",
   "id": "2a430edb",
   "metadata": {
    "papermill": {
     "duration": 0.009125,
     "end_time": "2024-03-13T18:00:34.907604",
     "exception": false,
     "start_time": "2024-03-13T18:00:34.898479",
     "status": "completed"
    },
    "tags": []
   },
   "source": [
    "# Finetune the model"
   ]
  },
  {
   "cell_type": "code",
   "execution_count": 19,
   "id": "73fd1e3b",
   "metadata": {
    "execution": {
     "iopub.execute_input": "2024-03-13T18:00:34.927366Z",
     "iopub.status.busy": "2024-03-13T18:00:34.926655Z",
     "iopub.status.idle": "2024-03-13T18:00:34.931036Z",
     "shell.execute_reply": "2024-03-13T18:00:34.930174Z"
    },
    "papermill": {
     "duration": 0.016345,
     "end_time": "2024-03-13T18:00:34.932987",
     "exception": false,
     "start_time": "2024-03-13T18:00:34.916642",
     "status": "completed"
    },
    "tags": []
   },
   "outputs": [],
   "source": [
    "checkpoint_cb = tf.keras.callbacks.ModelCheckpoint(\"xray_model.keras\",save_best_only=True)\n",
    "\n",
    "# early_stopping_cb = tf.keras.callbacks.EarlyStopping(patience=10,restore_best_weights=True)"
   ]
  },
  {
   "cell_type": "code",
   "execution_count": 20,
   "id": "f1e3b3f1",
   "metadata": {
    "execution": {
     "iopub.execute_input": "2024-03-13T18:00:34.953206Z",
     "iopub.status.busy": "2024-03-13T18:00:34.952880Z",
     "iopub.status.idle": "2024-03-13T18:00:34.958290Z",
     "shell.execute_reply": "2024-03-13T18:00:34.957368Z"
    },
    "papermill": {
     "duration": 0.017765,
     "end_time": "2024-03-13T18:00:34.960441",
     "exception": false,
     "start_time": "2024-03-13T18:00:34.942676",
     "status": "completed"
    },
    "tags": []
   },
   "outputs": [],
   "source": [
    "def exponential_decay(lr0, s):\n",
    "    def exponential_decay_fn(epoch):\n",
    "        return lr0 * 0.1 **(epoch / s)\n",
    "    return exponential_decay_fn\n",
    "\n",
    "exponential_decay_fn = exponential_decay(0.01, 20)\n",
    "\n",
    "lr_scheduler = tf.keras.callbacks.LearningRateScheduler(exponential_decay_fn)"
   ]
  },
  {
   "cell_type": "code",
   "execution_count": 21,
   "id": "7bc9dcea",
   "metadata": {
    "execution": {
     "iopub.execute_input": "2024-03-13T18:00:34.980728Z",
     "iopub.status.busy": "2024-03-13T18:00:34.980462Z",
     "iopub.status.idle": "2024-03-13T18:00:34.986185Z",
     "shell.execute_reply": "2024-03-13T18:00:34.985331Z"
    },
    "papermill": {
     "duration": 0.018364,
     "end_time": "2024-03-13T18:00:34.988390",
     "exception": false,
     "start_time": "2024-03-13T18:00:34.970026",
     "status": "completed"
    },
    "tags": []
   },
   "outputs": [
    {
     "name": "stdout",
     "output_type": "stream",
     "text": [
      "Weight for class 0: 1.99\n",
      "Weight for class 1: 0.67\n"
     ]
    }
   ],
   "source": [
    "weight_for_0 = (1 / num_normal_examples)*(num_normal_examples+num_pneumonia_examples)/2.0 \n",
    "weight_for_1 = (1 / num_pneumonia_examples)*(num_normal_examples+num_pneumonia_examples)/2.0\n",
    "\n",
    "class_weight = {0: weight_for_0, 1: weight_for_1}\n",
    "\n",
    "print('Weight for class 0: {:.2f}'.format(weight_for_0))\n",
    "print('Weight for class 1: {:.2f}'.format(weight_for_1))"
   ]
  },
  {
   "cell_type": "code",
   "execution_count": 22,
   "id": "de4c0b80",
   "metadata": {
    "execution": {
     "iopub.execute_input": "2024-03-13T18:00:35.008112Z",
     "iopub.status.busy": "2024-03-13T18:00:35.007841Z",
     "iopub.status.idle": "2024-03-13T18:21:15.988884Z",
     "shell.execute_reply": "2024-03-13T18:21:15.987737Z"
    },
    "papermill": {
     "duration": 1240.99469,
     "end_time": "2024-03-13T18:21:15.992125",
     "exception": false,
     "start_time": "2024-03-13T18:00:34.997435",
     "status": "completed"
    },
    "tags": []
   },
   "outputs": [
    {
     "name": "stdout",
     "output_type": "stream",
     "text": [
      "Epoch 1/30\n"
     ]
    },
    {
     "name": "stderr",
     "output_type": "stream",
     "text": [
      "/opt/conda/lib/python3.10/site-packages/keras/src/trainers/data_adapters/py_dataset_adapter.py:122: UserWarning: Your `PyDataset` class should call `super().__init__(**kwargs)` in its constructor. `**kwargs` can include `workers`, `use_multiprocessing`, `max_queue_size`. Do not pass these arguments to `fit()`, as they will be ignored.\n",
      "  self._warn_if_super_not_called()\n"
     ]
    },
    {
     "name": "stdout",
     "output_type": "stream",
     "text": [
      "\u001b[1m  1/261\u001b[0m \u001b[37m━━━━━━━━━━━━━━━━━━━━\u001b[0m \u001b[1m1:48:52\u001b[0m 25s/step - accuracy: 0.5625 - f1_score: 0.5625 - loss: 0.8545 - precision: 0.8000 - recall: 0.6154"
     ]
    },
    {
     "name": "stderr",
     "output_type": "stream",
     "text": [
      "WARNING: All log messages before absl::InitializeLog() is called are written to STDERR\n",
      "I0000 00:00:1710352860.605566      77 device_compiler.h:186] Compiled cluster using XLA!  This line is logged at most once for the lifetime of the process.\n",
      "W0000 00:00:1710352860.628509      77 graph_launch.cc:671] Fallback to op-by-op mode because memset node breaks graph update\n"
     ]
    },
    {
     "name": "stdout",
     "output_type": "stream",
     "text": [
      "\u001b[1m261/261\u001b[0m \u001b[32m━━━━━━━━━━━━━━━━━━━━\u001b[0m\u001b[37m\u001b[0m \u001b[1m0s\u001b[0m 275ms/step - accuracy: 0.5204 - f1_score: 0.5204 - loss: 1.8928 - precision: 0.7605 - recall: 0.5212"
     ]
    },
    {
     "name": "stderr",
     "output_type": "stream",
     "text": [
      "W0000 00:00:1710352932.239712      74 graph_launch.cc:671] Fallback to op-by-op mode because memset node breaks graph update\n",
      "W0000 00:00:1710352933.726042      76 graph_launch.cc:671] Fallback to op-by-op mode because memset node breaks graph update\n"
     ]
    },
    {
     "name": "stdout",
     "output_type": "stream",
     "text": [
      "\u001b[1m261/261\u001b[0m \u001b[32m━━━━━━━━━━━━━━━━━━━━\u001b[0m\u001b[37m\u001b[0m \u001b[1m106s\u001b[0m 312ms/step - accuracy: 0.5205 - f1_score: 0.5205 - loss: 1.8912 - precision: 0.7606 - recall: 0.5213 - val_accuracy: 0.6552 - val_f1_score: 0.6552 - val_loss: 0.6064 - val_precision: 0.9859 - val_recall: 0.5426 - learning_rate: 0.0100\n",
      "Epoch 2/30\n",
      "\u001b[1m261/261\u001b[0m \u001b[32m━━━━━━━━━━━━━━━━━━━━\u001b[0m\u001b[37m\u001b[0m \u001b[1m39s\u001b[0m 149ms/step - accuracy: 0.6082 - f1_score: 0.6082 - loss: 0.8817 - precision: 0.8238 - recall: 0.6068 - val_accuracy: 0.7241 - val_f1_score: 0.7241 - val_loss: 0.6273 - val_precision: 0.9880 - val_recall: 0.6357 - learning_rate: 0.0089\n",
      "Epoch 3/30\n",
      "\u001b[1m261/261\u001b[0m \u001b[32m━━━━━━━━━━━━━━━━━━━━\u001b[0m\u001b[37m\u001b[0m \u001b[1m40s\u001b[0m 154ms/step - accuracy: 0.6772 - f1_score: 0.6772 - loss: 0.6780 - precision: 0.8576 - recall: 0.6691 - val_accuracy: 0.8793 - val_f1_score: 0.8793 - val_loss: 0.3405 - val_precision: 0.9602 - val_recall: 0.8734 - learning_rate: 0.0079\n",
      "Epoch 4/30\n",
      "\u001b[1m261/261\u001b[0m \u001b[32m━━━━━━━━━━━━━━━━━━━━\u001b[0m\u001b[37m\u001b[0m \u001b[1m41s\u001b[0m 157ms/step - accuracy: 0.7428 - f1_score: 0.7428 - loss: 0.5748 - precision: 0.8933 - recall: 0.7434 - val_accuracy: 0.8602 - val_f1_score: 0.8602 - val_loss: 0.3062 - val_precision: 0.9787 - val_recall: 0.8295 - learning_rate: 0.0071\n",
      "Epoch 5/30\n",
      "\u001b[1m261/261\u001b[0m \u001b[32m━━━━━━━━━━━━━━━━━━━━\u001b[0m\u001b[37m\u001b[0m \u001b[1m39s\u001b[0m 148ms/step - accuracy: 0.7677 - f1_score: 0.7677 - loss: 0.4945 - precision: 0.9115 - recall: 0.7606 - val_accuracy: 0.9100 - val_f1_score: 0.9100 - val_loss: 0.3454 - val_precision: 0.9722 - val_recall: 0.9044 - learning_rate: 0.0063\n",
      "Epoch 6/30\n",
      "\u001b[1m261/261\u001b[0m \u001b[32m━━━━━━━━━━━━━━━━━━━━\u001b[0m\u001b[37m\u001b[0m \u001b[1m39s\u001b[0m 150ms/step - accuracy: 0.7891 - f1_score: 0.7891 - loss: 0.4748 - precision: 0.9147 - recall: 0.7939 - val_accuracy: 0.9195 - val_f1_score: 0.9195 - val_loss: 0.2066 - val_precision: 0.9302 - val_recall: 0.9638 - learning_rate: 0.0056\n",
      "Epoch 7/30\n",
      "\u001b[1m261/261\u001b[0m \u001b[32m━━━━━━━━━━━━━━━━━━━━\u001b[0m\u001b[37m\u001b[0m \u001b[1m40s\u001b[0m 154ms/step - accuracy: 0.8149 - f1_score: 0.8149 - loss: 0.4392 - precision: 0.9213 - recall: 0.8221 - val_accuracy: 0.9310 - val_f1_score: 0.9310 - val_loss: 0.2019 - val_precision: 0.9443 - val_recall: 0.9638 - learning_rate: 0.0050\n",
      "Epoch 8/30\n",
      "\u001b[1m261/261\u001b[0m \u001b[32m━━━━━━━━━━━━━━━━━━━━\u001b[0m\u001b[37m\u001b[0m \u001b[1m39s\u001b[0m 149ms/step - accuracy: 0.8173 - f1_score: 0.8173 - loss: 0.4144 - precision: 0.9334 - recall: 0.8152 - val_accuracy: 0.6341 - val_f1_score: 0.6341 - val_loss: 0.6720 - val_precision: 1.0000 - val_recall: 0.5065 - learning_rate: 0.0045\n",
      "Epoch 9/30\n",
      "\u001b[1m261/261\u001b[0m \u001b[32m━━━━━━━━━━━━━━━━━━━━\u001b[0m\u001b[37m\u001b[0m \u001b[1m39s\u001b[0m 148ms/step - accuracy: 0.8257 - f1_score: 0.8257 - loss: 0.3811 - precision: 0.9518 - recall: 0.8077 - val_accuracy: 0.9061 - val_f1_score: 0.9061 - val_loss: 0.2343 - val_precision: 0.9913 - val_recall: 0.8811 - learning_rate: 0.0040\n",
      "Epoch 10/30\n",
      "\u001b[1m261/261\u001b[0m \u001b[32m━━━━━━━━━━━━━━━━━━━━\u001b[0m\u001b[37m\u001b[0m \u001b[1m39s\u001b[0m 149ms/step - accuracy: 0.8485 - f1_score: 0.8485 - loss: 0.3471 - precision: 0.9552 - recall: 0.8380 - val_accuracy: 0.9521 - val_f1_score: 0.9521 - val_loss: 0.1627 - val_precision: 0.9814 - val_recall: 0.9535 - learning_rate: 0.0035\n",
      "Epoch 11/30\n",
      "\u001b[1m261/261\u001b[0m \u001b[32m━━━━━━━━━━━━━━━━━━━━\u001b[0m\u001b[37m\u001b[0m \u001b[1m39s\u001b[0m 149ms/step - accuracy: 0.8330 - f1_score: 0.8330 - loss: 0.3762 - precision: 0.9467 - recall: 0.8264 - val_accuracy: 0.9540 - val_f1_score: 0.9540 - val_loss: 0.1859 - val_precision: 0.9814 - val_recall: 0.9561 - learning_rate: 0.0032\n",
      "Epoch 12/30\n",
      "\u001b[1m261/261\u001b[0m \u001b[32m━━━━━━━━━━━━━━━━━━━━\u001b[0m\u001b[37m\u001b[0m \u001b[1m39s\u001b[0m 150ms/step - accuracy: 0.8531 - f1_score: 0.8531 - loss: 0.3488 - precision: 0.9433 - recall: 0.8548 - val_accuracy: 0.9310 - val_f1_score: 0.9310 - val_loss: 0.2152 - val_precision: 0.9889 - val_recall: 0.9173 - learning_rate: 0.0028\n",
      "Epoch 13/30\n",
      "\u001b[1m261/261\u001b[0m \u001b[32m━━━━━━━━━━━━━━━━━━━━\u001b[0m\u001b[37m\u001b[0m \u001b[1m39s\u001b[0m 150ms/step - accuracy: 0.8392 - f1_score: 0.8392 - loss: 0.3373 - precision: 0.9567 - recall: 0.8204 - val_accuracy: 0.9521 - val_f1_score: 0.9521 - val_loss: 0.1486 - val_precision: 0.9840 - val_recall: 0.9509 - learning_rate: 0.0025\n",
      "Epoch 14/30\n",
      "\u001b[1m261/261\u001b[0m \u001b[32m━━━━━━━━━━━━━━━━━━━━\u001b[0m\u001b[37m\u001b[0m \u001b[1m39s\u001b[0m 151ms/step - accuracy: 0.8604 - f1_score: 0.8604 - loss: 0.3286 - precision: 0.9573 - recall: 0.8545 - val_accuracy: 0.9598 - val_f1_score: 0.9598 - val_loss: 0.1418 - val_precision: 0.9741 - val_recall: 0.9716 - learning_rate: 0.0022\n",
      "Epoch 15/30\n",
      "\u001b[1m261/261\u001b[0m \u001b[32m━━━━━━━━━━━━━━━━━━━━\u001b[0m\u001b[37m\u001b[0m \u001b[1m39s\u001b[0m 150ms/step - accuracy: 0.8686 - f1_score: 0.8686 - loss: 0.3168 - precision: 0.9607 - recall: 0.8593 - val_accuracy: 0.9100 - val_f1_score: 0.9100 - val_loss: 0.2380 - val_precision: 0.9942 - val_recall: 0.8837 - learning_rate: 0.0020\n",
      "Epoch 16/30\n",
      "\u001b[1m261/261\u001b[0m \u001b[32m━━━━━━━━━━━━━━━━━━━━\u001b[0m\u001b[37m\u001b[0m \u001b[1m39s\u001b[0m 148ms/step - accuracy: 0.8809 - f1_score: 0.8809 - loss: 0.3098 - precision: 0.9584 - recall: 0.8782 - val_accuracy: 0.9349 - val_f1_score: 0.9349 - val_loss: 0.2080 - val_precision: 0.9916 - val_recall: 0.9199 - learning_rate: 0.0018\n",
      "Epoch 17/30\n",
      "\u001b[1m261/261\u001b[0m \u001b[32m━━━━━━━━━━━━━━━━━━━━\u001b[0m\u001b[37m\u001b[0m \u001b[1m39s\u001b[0m 149ms/step - accuracy: 0.8705 - f1_score: 0.8705 - loss: 0.3161 - precision: 0.9611 - recall: 0.8608 - val_accuracy: 0.9234 - val_f1_score: 0.9234 - val_loss: 0.1764 - val_precision: 0.9915 - val_recall: 0.9044 - learning_rate: 0.0016\n",
      "Epoch 18/30\n",
      "\u001b[1m261/261\u001b[0m \u001b[32m━━━━━━━━━━━━━━━━━━━━\u001b[0m\u001b[37m\u001b[0m \u001b[1m39s\u001b[0m 148ms/step - accuracy: 0.8764 - f1_score: 0.8764 - loss: 0.2864 - precision: 0.9693 - recall: 0.8620 - val_accuracy: 0.9521 - val_f1_score: 0.9521 - val_loss: 0.2134 - val_precision: 0.9641 - val_recall: 0.9716 - learning_rate: 0.0014\n",
      "Epoch 19/30\n",
      "\u001b[1m261/261\u001b[0m \u001b[32m━━━━━━━━━━━━━━━━━━━━\u001b[0m\u001b[37m\u001b[0m \u001b[1m39s\u001b[0m 148ms/step - accuracy: 0.8629 - f1_score: 0.8629 - loss: 0.3367 - precision: 0.9530 - recall: 0.8588 - val_accuracy: 0.9559 - val_f1_score: 0.9559 - val_loss: 0.1513 - val_precision: 0.9667 - val_recall: 0.9742 - learning_rate: 0.0013\n",
      "Epoch 20/30\n",
      "\u001b[1m261/261\u001b[0m \u001b[32m━━━━━━━━━━━━━━━━━━━━\u001b[0m\u001b[37m\u001b[0m \u001b[1m39s\u001b[0m 151ms/step - accuracy: 0.8574 - f1_score: 0.8574 - loss: 0.3388 - precision: 0.9472 - recall: 0.8550 - val_accuracy: 0.9540 - val_f1_score: 0.9540 - val_loss: 0.1451 - val_precision: 0.9764 - val_recall: 0.9612 - learning_rate: 0.0011\n",
      "Epoch 21/30\n",
      "\u001b[1m261/261\u001b[0m \u001b[32m━━━━━━━━━━━━━━━━━━━━\u001b[0m\u001b[37m\u001b[0m \u001b[1m39s\u001b[0m 148ms/step - accuracy: 0.8651 - f1_score: 0.8651 - loss: 0.3584 - precision: 0.9481 - recall: 0.8690 - val_accuracy: 0.9464 - val_f1_score: 0.9464 - val_loss: 0.1896 - val_precision: 0.9891 - val_recall: 0.9380 - learning_rate: 0.0010\n",
      "Epoch 22/30\n",
      "\u001b[1m261/261\u001b[0m \u001b[32m━━━━━━━━━━━━━━━━━━━━\u001b[0m\u001b[37m\u001b[0m \u001b[1m40s\u001b[0m 153ms/step - accuracy: 0.8790 - f1_score: 0.8790 - loss: 0.2847 - precision: 0.9653 - recall: 0.8705 - val_accuracy: 0.8946 - val_f1_score: 0.8946 - val_loss: 0.2778 - val_precision: 0.9911 - val_recall: 0.8656 - learning_rate: 8.9125e-04\n",
      "Epoch 23/30\n",
      "\u001b[1m261/261\u001b[0m \u001b[32m━━━━━━━━━━━━━━━━━━━━\u001b[0m\u001b[37m\u001b[0m \u001b[1m39s\u001b[0m 148ms/step - accuracy: 0.8645 - f1_score: 0.8645 - loss: 0.3051 - precision: 0.9596 - recall: 0.8567 - val_accuracy: 0.9100 - val_f1_score: 0.9100 - val_loss: 0.2124 - val_precision: 0.9913 - val_recall: 0.8863 - learning_rate: 7.9433e-04\n",
      "Epoch 24/30\n",
      "\u001b[1m261/261\u001b[0m \u001b[32m━━━━━━━━━━━━━━━━━━━━\u001b[0m\u001b[37m\u001b[0m \u001b[1m39s\u001b[0m 148ms/step - accuracy: 0.8791 - f1_score: 0.8791 - loss: 0.2759 - precision: 0.9659 - recall: 0.8706 - val_accuracy: 0.9425 - val_f1_score: 0.9425 - val_loss: 0.1670 - val_precision: 0.9917 - val_recall: 0.9302 - learning_rate: 7.0795e-04\n",
      "Epoch 25/30\n",
      "\u001b[1m261/261\u001b[0m \u001b[32m━━━━━━━━━━━━━━━━━━━━\u001b[0m\u001b[37m\u001b[0m \u001b[1m39s\u001b[0m 149ms/step - accuracy: 0.8745 - f1_score: 0.8745 - loss: 0.2755 - precision: 0.9642 - recall: 0.8660 - val_accuracy: 0.9406 - val_f1_score: 0.9406 - val_loss: 0.1763 - val_precision: 0.9917 - val_recall: 0.9276 - learning_rate: 6.3096e-04\n",
      "Epoch 26/30\n",
      "\u001b[1m261/261\u001b[0m \u001b[32m━━━━━━━━━━━━━━━━━━━━\u001b[0m\u001b[37m\u001b[0m \u001b[1m39s\u001b[0m 149ms/step - accuracy: 0.8658 - f1_score: 0.8658 - loss: 0.2912 - precision: 0.9588 - recall: 0.8561 - val_accuracy: 0.9483 - val_f1_score: 0.9483 - val_loss: 0.1498 - val_precision: 0.9891 - val_recall: 0.9406 - learning_rate: 5.6234e-04\n",
      "Epoch 27/30\n",
      "\u001b[1m261/261\u001b[0m \u001b[32m━━━━━━━━━━━━━━━━━━━━\u001b[0m\u001b[37m\u001b[0m \u001b[1m39s\u001b[0m 149ms/step - accuracy: 0.8842 - f1_score: 0.8842 - loss: 0.2831 - precision: 0.9627 - recall: 0.8798 - val_accuracy: 0.9617 - val_f1_score: 0.9617 - val_loss: 0.1225 - val_precision: 0.9742 - val_recall: 0.9742 - learning_rate: 5.0119e-04\n",
      "Epoch 28/30\n",
      "\u001b[1m261/261\u001b[0m \u001b[32m━━━━━━━━━━━━━━━━━━━━\u001b[0m\u001b[37m\u001b[0m \u001b[1m39s\u001b[0m 149ms/step - accuracy: 0.8839 - f1_score: 0.8839 - loss: 0.2623 - precision: 0.9659 - recall: 0.8742 - val_accuracy: 0.9483 - val_f1_score: 0.9483 - val_loss: 0.1522 - val_precision: 0.9865 - val_recall: 0.9432 - learning_rate: 4.4668e-04\n",
      "Epoch 29/30\n",
      "\u001b[1m261/261\u001b[0m \u001b[32m━━━━━━━━━━━━━━━━━━━━\u001b[0m\u001b[37m\u001b[0m \u001b[1m39s\u001b[0m 148ms/step - accuracy: 0.8893 - f1_score: 0.8893 - loss: 0.2751 - precision: 0.9636 - recall: 0.8843 - val_accuracy: 0.9617 - val_f1_score: 0.9617 - val_loss: 0.1318 - val_precision: 0.9791 - val_recall: 0.9690 - learning_rate: 3.9811e-04\n",
      "Epoch 30/30\n",
      "\u001b[1m261/261\u001b[0m \u001b[32m━━━━━━━━━━━━━━━━━━━━\u001b[0m\u001b[37m\u001b[0m \u001b[1m39s\u001b[0m 149ms/step - accuracy: 0.8848 - f1_score: 0.8848 - loss: 0.2732 - precision: 0.9648 - recall: 0.8796 - val_accuracy: 0.8563 - val_f1_score: 0.8563 - val_loss: 0.3376 - val_precision: 0.9968 - val_recall: 0.8088 - learning_rate: 3.5481e-04\n"
     ]
    }
   ],
   "source": [
    "EPOCHS =30  #100 # 25 \n",
    "history2 = model.fit(\n",
    "    train_dataset,\n",
    "    epochs=EPOCHS,\n",
    "    validation_data=val_dataset,\n",
    "    class_weight=class_weight,\n",
    "#     callbacks=[checkpoint_cb, early_stopping_cb, lr_scheduler],\n",
    "    callbacks=[checkpoint_cb, lr_scheduler],\n",
    "    shuffle = False,\n",
    "    verbose= 1\n",
    ")"
   ]
  },
  {
   "cell_type": "code",
   "execution_count": 23,
   "id": "13c8dc27",
   "metadata": {
    "execution": {
     "iopub.execute_input": "2024-03-13T18:21:17.373874Z",
     "iopub.status.busy": "2024-03-13T18:21:17.373507Z",
     "iopub.status.idle": "2024-03-13T18:21:18.409485Z",
     "shell.execute_reply": "2024-03-13T18:21:18.408499Z"
    },
    "papermill": {
     "duration": 1.710322,
     "end_time": "2024-03-13T18:21:18.411661",
     "exception": false,
     "start_time": "2024-03-13T18:21:16.701339",
     "status": "completed"
    },
    "tags": []
   },
   "outputs": [
    {
     "data": {
      "image/png": "[encoded data removed]",
      "text/plain": [
       "<Figure size 2000x500 with 4 Axes>"
      ]
     },
     "metadata": {},
     "output_type": "display_data"
    }
   ],
   "source": [
    "fig, ax = plt.subplots(1, 4, figsize=(20,5))\n",
    "ax = ax.ravel()\n",
    "\n",
    "for i, met in enumerate(['precision', 'recall', 'accuracy', 'loss']):\n",
    "    ax[i].plot(history2.history[met])\n",
    "    ax[i].plot(history2.history['val_' + met])\n",
    "    ax[i].set_title('Model {}'.format(met))\n",
    "    ax[i].set_xlabel('epochs')\n",
    "    ax[i].set_ylabel(met)\n",
    "    ax[i].legend(['train', 'val'])"
   ]
  },
  {
   "cell_type": "markdown",
   "id": "ee2f88c4",
   "metadata": {
    "papermill": {
     "duration": 0.694652,
     "end_time": "2024-03-13T18:21:19.763219",
     "exception": false,
     "start_time": "2024-03-13T18:21:19.068567",
     "status": "completed"
    },
    "tags": []
   },
   "source": [
    "# Predict and evaluate results"
   ]
  },
  {
   "cell_type": "code",
   "execution_count": 24,
   "id": "694f6c8d",
   "metadata": {
    "execution": {
     "iopub.execute_input": "2024-03-13T18:21:21.078271Z",
     "iopub.status.busy": "2024-03-13T18:21:21.077893Z",
     "iopub.status.idle": "2024-03-13T18:21:28.788185Z",
     "shell.execute_reply": "2024-03-13T18:21:28.787110Z"
    },
    "papermill": {
     "duration": 8.368505,
     "end_time": "2024-03-13T18:21:28.790377",
     "exception": false,
     "start_time": "2024-03-13T18:21:20.421872",
     "status": "completed"
    },
    "tags": []
   },
   "outputs": [
    {
     "name": "stdout",
     "output_type": "stream",
     "text": [
      "\u001b[1m33/33\u001b[0m \u001b[32m━━━━━━━━━━━━━━━━━━━━\u001b[0m\u001b[37m\u001b[0m \u001b[1m7s\u001b[0m 228ms/step - accuracy: 0.8131 - f1_score: 0.8131 - loss: 0.4028 - precision: 1.0000 - recall: 0.7377\n"
     ]
    }
   ],
   "source": [
    "loss, acc, prec, rec, f1 = model.evaluate(test_dataset)"
   ]
  },
  {
   "cell_type": "code",
   "execution_count": 25,
   "id": "a3459958",
   "metadata": {
    "execution": {
     "iopub.execute_input": "2024-03-13T18:21:30.168564Z",
     "iopub.status.busy": "2024-03-13T18:21:30.168187Z",
     "iopub.status.idle": "2024-03-13T18:21:38.303953Z",
     "shell.execute_reply": "2024-03-13T18:21:38.303033Z"
    },
    "papermill": {
     "duration": 8.80302,
     "end_time": "2024-03-13T18:21:38.306117",
     "exception": false,
     "start_time": "2024-03-13T18:21:29.503097",
     "status": "completed"
    },
    "tags": []
   },
   "outputs": [
    {
     "name": "stdout",
     "output_type": "stream",
     "text": [
      "\u001b[1m 3/33\u001b[0m \u001b[32m━\u001b[0m\u001b[37m━━━━━━━━━━━━━━━━━━━\u001b[0m \u001b[1m2s\u001b[0m 95ms/step - accuracy: 0.9444 - f1_score: 0.9444 - loss: 0.1781 - precision: 0.9769 - recall: 0.9466"
     ]
    },
    {
     "name": "stderr",
     "output_type": "stream",
     "text": [
      "W0000 00:00:1710354093.520412      75 graph_launch.cc:671] Fallback to op-by-op mode because memset node breaks graph update\n"
     ]
    },
    {
     "name": "stdout",
     "output_type": "stream",
     "text": [
      "\u001b[1m33/33\u001b[0m \u001b[32m━━━━━━━━━━━━━━━━━━━━\u001b[0m\u001b[37m\u001b[0m \u001b[1m6s\u001b[0m 149ms/step - accuracy: 0.9628 - f1_score: 0.9628 - loss: 0.1304 - precision: 0.9829 - recall: 0.9646\n"
     ]
    }
   ],
   "source": [
    "# Load the model saved by ModelCheckpoint\n",
    "checkpoint_model = tf.keras.models.load_model(\"xray_model.keras\")\n",
    "\n",
    "# Evaluate the checkpoint model\n",
    "loss, acc, prec, rec, f1= checkpoint_model.evaluate(test_dataset)\n"
   ]
  }
 ],
 "metadata": {
  "kaggle": {
   "accelerator": "nvidiaTeslaT4",
   "dataSources": [
    {
     "datasetId": 17810,
     "sourceId": 23812,
     "sourceType": "datasetVersion"
    },
    {
     "datasetId": 4577859,
     "sourceId": 7814764,
     "sourceType": "datasetVersion"
    }
   ],
   "dockerImageVersionId": 30665,
   "isGpuEnabled": true,
   "isInternetEnabled": false,
   "language": "python",
   "sourceType": "notebook"
  },
  "kernelspec": {
   "display_name": "Python 3 (ipykernel)",
   "language": "python",
   "name": "python3"
  },
  "language_info": {
   "codemirror_mode": {
    "name": "ipython",
    "version": 3
   },
   "file_extension": ".py",
   "mimetype": "text/x-python",
   "name": "python",
   "nbconvert_exporter": "python",
   "pygments_lexer": "ipython3",
   "version": "3.11.5"
  },
  "papermill": {
   "default_parameters": {},
   "duration": 1291.040715,
   "end_time": "2024-03-13T18:21:42.428814",
   "environment_variables": {},
   "exception": null,
   "input_path": "__notebook__.ipynb",
   "output_path": "__notebook__.ipynb",
   "parameters": {},
   "start_time": "2024-03-13T18:00:11.388099",
   "version": "2.5.0"
  }
 },
 "nbformat": 4,
 "nbformat_minor": 5
}
