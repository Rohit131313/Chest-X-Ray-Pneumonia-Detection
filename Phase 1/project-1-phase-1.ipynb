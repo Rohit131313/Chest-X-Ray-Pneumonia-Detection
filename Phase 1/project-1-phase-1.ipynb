{
 "cells": [
  {
   "cell_type": "code",
   "execution_count": 1,
   "metadata": {
    "execution": {
     "iopub.execute_input": "2024-03-12T12:49:25.769289Z",
     "iopub.status.busy": "2024-03-12T12:49:25.768913Z",
     "iopub.status.idle": "2024-03-12T12:49:47.784101Z",
     "shell.execute_reply": "2024-03-12T12:49:47.783252Z",
     "shell.execute_reply.started": "2024-03-12T12:49:25.769262Z"
    }
   },
   "outputs": [
    {
     "name": "stderr",
     "output_type": "stream",
     "text": [
      "2024-03-12 12:49:29.592859: E external/local_xla/xla/stream_executor/cuda/cuda_dnn.cc:9261] Unable to register cuDNN factory: Attempting to register factory for plugin cuDNN when one has already been registered\n",
      "2024-03-12 12:49:29.592991: E external/local_xla/xla/stream_executor/cuda/cuda_fft.cc:607] Unable to register cuFFT factory: Attempting to register factory for plugin cuFFT when one has already been registered\n",
      "2024-03-12 12:49:29.877876: E external/local_xla/xla/stream_executor/cuda/cuda_blas.cc:1515] Unable to register cuBLAS factory: Attempting to register factory for plugin cuBLAS when one has already been registered\n"
     ]
    }
   ],
   "source": [
    "# kaggle notebook of this project is https://www.kaggle.com/code/rohit1313/project-1-phase-1\n",
    "from tensorflow.keras.preprocessing.image import ImageDataGenerator  # using this we can make the image of normal folder refer to normal output label and similary for pneumonia folder\n",
    "from tensorflow.keras.preprocessing import image\n",
    "import matplotlib.pyplot as plt\n",
    "import tensorflow as tf\n",
    "import numpy as np\n",
    "import cv2\n",
    "import math\n",
    "import os\n",
    "import pandas as pd"
   ]
  },
  {
   "cell_type": "code",
   "execution_count": 2,
   "metadata": {
    "execution": {
     "iopub.execute_input": "2024-03-12T12:49:47.786331Z",
     "iopub.status.busy": "2024-03-12T12:49:47.785778Z",
     "iopub.status.idle": "2024-03-12T12:49:47.796056Z",
     "shell.execute_reply": "2024-03-12T12:49:47.795059Z",
     "shell.execute_reply.started": "2024-03-12T12:49:47.786303Z"
    }
   },
   "outputs": [
    {
     "name": "stdout",
     "output_type": "stream",
     "text": [
      "Number of replicas: 1\n",
      "2.15.0\n"
     ]
    }
   ],
   "source": [
    "try:\n",
    "    tpu = tf.distribute.cluster_resolver.TPUClusterResolver()\n",
    "    print('Device:', tpu.master())\n",
    "    tf.config.experimental_connect_to_cluster(tpu)\n",
    "    tf.tpu.experimental.initialize_tpu_system(tpu)\n",
    "    strategy = tf.distribute.experimental.TPUStrategy(tpu)\n",
    "except:\n",
    "    strategy = tf.distribute.get_strategy()\n",
    "print('Number of replicas:', strategy.num_replicas_in_sync)\n",
    "    \n",
    "print(tf.__version__)"
   ]
  },
  {
   "cell_type": "code",
   "execution_count": 4,
   "metadata": {
    "execution": {
     "iopub.execute_input": "2024-03-12T12:49:47.811508Z",
     "iopub.status.busy": "2024-03-12T12:49:47.810737Z",
     "iopub.status.idle": "2024-03-12T12:49:48.354502Z",
     "shell.execute_reply": "2024-03-12T12:49:48.353636Z",
     "shell.execute_reply.started": "2024-03-12T12:49:47.811474Z"
    }
   },
   "outputs": [],
   "source": [
    "train_data_path = '../input/chest-xray-pneumonia/chest_xray/train'\n",
    "filepaths = []\n",
    "labels = []\n",
    "\n",
    "folds = os.listdir(train_data_path)\n",
    "for fold in folds:\n",
    "    foldpath = os.path.join(train_data_path, fold)\n",
    "    filelist = os.listdir(foldpath)\n",
    "    \n",
    "    for file in filelist:\n",
    "        fpath = os.path.join(foldpath, file)\n",
    "        filepaths.append(fpath)\n",
    "        labels.append(fold)\n",
    "        \n",
    "FSeries = pd.Series(filepaths, name='filepaths')\n",
    "LSeries = pd.Series(labels, name='label')\n",
    "\n",
    "df = pd.concat([FSeries, LSeries], axis=1)"
   ]
  },
  {
   "cell_type": "code",
   "execution_count": 5,
   "metadata": {
    "execution": {
     "iopub.execute_input": "2024-03-12T12:49:48.356596Z",
     "iopub.status.busy": "2024-03-12T12:49:48.355851Z",
     "iopub.status.idle": "2024-03-12T12:49:48.378934Z",
     "shell.execute_reply": "2024-03-12T12:49:48.378027Z",
     "shell.execute_reply.started": "2024-03-12T12:49:48.356562Z"
    }
   },
   "outputs": [
    {
     "data": {
      "text/html": [
       "<div>\n",
       "<style scoped>\n",
       "    .dataframe tbody tr th:only-of-type {\n",
       "        vertical-align: middle;\n",
       "    }\n",
       "\n",
       "    .dataframe tbody tr th {\n",
       "        vertical-align: top;\n",
       "    }\n",
       "\n",
       "    .dataframe thead th {\n",
       "        text-align: right;\n",
       "    }\n",
       "</style>\n",
       "<table border=\"1\" class=\"dataframe\">\n",
       "  <thead>\n",
       "    <tr style=\"text-align: right;\">\n",
       "      <th></th>\n",
       "      <th>filepaths</th>\n",
       "      <th>label</th>\n",
       "    </tr>\n",
       "  </thead>\n",
       "  <tbody>\n",
       "    <tr>\n",
       "      <th>0</th>\n",
       "      <td>../input/chest-xray-pneumonia/chest_xray/train...</td>\n",
       "      <td>PNEUMONIA</td>\n",
       "    </tr>\n",
       "    <tr>\n",
       "      <th>1</th>\n",
       "      <td>../input/chest-xray-pneumonia/chest_xray/train...</td>\n",
       "      <td>PNEUMONIA</td>\n",
       "    </tr>\n",
       "    <tr>\n",
       "      <th>2</th>\n",
       "      <td>../input/chest-xray-pneumonia/chest_xray/train...</td>\n",
       "      <td>PNEUMONIA</td>\n",
       "    </tr>\n",
       "    <tr>\n",
       "      <th>3</th>\n",
       "      <td>../input/chest-xray-pneumonia/chest_xray/train...</td>\n",
       "      <td>PNEUMONIA</td>\n",
       "    </tr>\n",
       "    <tr>\n",
       "      <th>4</th>\n",
       "      <td>../input/chest-xray-pneumonia/chest_xray/train...</td>\n",
       "      <td>PNEUMONIA</td>\n",
       "    </tr>\n",
       "    <tr>\n",
       "      <th>...</th>\n",
       "      <td>...</td>\n",
       "      <td>...</td>\n",
       "    </tr>\n",
       "    <tr>\n",
       "      <th>5211</th>\n",
       "      <td>../input/chest-xray-pneumonia/chest_xray/train...</td>\n",
       "      <td>NORMAL</td>\n",
       "    </tr>\n",
       "    <tr>\n",
       "      <th>5212</th>\n",
       "      <td>../input/chest-xray-pneumonia/chest_xray/train...</td>\n",
       "      <td>NORMAL</td>\n",
       "    </tr>\n",
       "    <tr>\n",
       "      <th>5213</th>\n",
       "      <td>../input/chest-xray-pneumonia/chest_xray/train...</td>\n",
       "      <td>NORMAL</td>\n",
       "    </tr>\n",
       "    <tr>\n",
       "      <th>5214</th>\n",
       "      <td>../input/chest-xray-pneumonia/chest_xray/train...</td>\n",
       "      <td>NORMAL</td>\n",
       "    </tr>\n",
       "    <tr>\n",
       "      <th>5215</th>\n",
       "      <td>../input/chest-xray-pneumonia/chest_xray/train...</td>\n",
       "      <td>NORMAL</td>\n",
       "    </tr>\n",
       "  </tbody>\n",
       "</table>\n",
       "<p>5216 rows × 2 columns</p>\n",
       "</div>"
      ],
      "text/plain": [
       "                                              filepaths      label\n",
       "0     ../input/chest-xray-pneumonia/chest_xray/train...  PNEUMONIA\n",
       "1     ../input/chest-xray-pneumonia/chest_xray/train...  PNEUMONIA\n",
       "2     ../input/chest-xray-pneumonia/chest_xray/train...  PNEUMONIA\n",
       "3     ../input/chest-xray-pneumonia/chest_xray/train...  PNEUMONIA\n",
       "4     ../input/chest-xray-pneumonia/chest_xray/train...  PNEUMONIA\n",
       "...                                                 ...        ...\n",
       "5211  ../input/chest-xray-pneumonia/chest_xray/train...     NORMAL\n",
       "5212  ../input/chest-xray-pneumonia/chest_xray/train...     NORMAL\n",
       "5213  ../input/chest-xray-pneumonia/chest_xray/train...     NORMAL\n",
       "5214  ../input/chest-xray-pneumonia/chest_xray/train...     NORMAL\n",
       "5215  ../input/chest-xray-pneumonia/chest_xray/train...     NORMAL\n",
       "\n",
       "[5216 rows x 2 columns]"
      ]
     },
     "execution_count": 5,
     "metadata": {},
     "output_type": "execute_result"
    }
   ],
   "source": [
    "df"
   ]
  },
  {
   "cell_type": "code",
   "execution_count": 6,
   "metadata": {
    "execution": {
     "iopub.execute_input": "2024-03-12T12:49:48.380424Z",
     "iopub.status.busy": "2024-03-12T12:49:48.380150Z",
     "iopub.status.idle": "2024-03-12T12:49:48.405060Z",
     "shell.execute_reply": "2024-03-12T12:49:48.404272Z",
     "shell.execute_reply.started": "2024-03-12T12:49:48.380400Z"
    }
   },
   "outputs": [],
   "source": [
    "valid_data_dir = '../input/chest-xray-pneumonia/chest_xray/val'\n",
    "filepaths = []\n",
    "labels = []\n",
    "\n",
    "folds = os.listdir(valid_data_dir)\n",
    "for fold in folds:\n",
    "    foldpath = os.path.join(valid_data_dir, fold)\n",
    "    filelist = os.listdir(foldpath)\n",
    "    \n",
    "    for file in filelist:\n",
    "        fpath = os.path.join(foldpath, file)\n",
    "        \n",
    "        filepaths.append(fpath)\n",
    "        labels.append(fold)\n",
    "        \n",
    "FSeries = pd.Series(filepaths, name='filepaths')\n",
    "LSeries = pd.Series(labels, name='label')\n",
    "\n",
    "valid = pd.concat([FSeries, LSeries], axis=1)"
   ]
  },
  {
   "cell_type": "code",
   "execution_count": 7,
   "metadata": {
    "execution": {
     "iopub.execute_input": "2024-03-12T12:49:48.406350Z",
     "iopub.status.busy": "2024-03-12T12:49:48.406114Z",
     "iopub.status.idle": "2024-03-12T12:49:48.416435Z",
     "shell.execute_reply": "2024-03-12T12:49:48.415267Z",
     "shell.execute_reply.started": "2024-03-12T12:49:48.406329Z"
    }
   },
   "outputs": [
    {
     "data": {
      "text/html": [
       "<div>\n",
       "<style scoped>\n",
       "    .dataframe tbody tr th:only-of-type {\n",
       "        vertical-align: middle;\n",
       "    }\n",
       "\n",
       "    .dataframe tbody tr th {\n",
       "        vertical-align: top;\n",
       "    }\n",
       "\n",
       "    .dataframe thead th {\n",
       "        text-align: right;\n",
       "    }\n",
       "</style>\n",
       "<table border=\"1\" class=\"dataframe\">\n",
       "  <thead>\n",
       "    <tr style=\"text-align: right;\">\n",
       "      <th></th>\n",
       "      <th>filepaths</th>\n",
       "      <th>label</th>\n",
       "    </tr>\n",
       "  </thead>\n",
       "  <tbody>\n",
       "    <tr>\n",
       "      <th>0</th>\n",
       "      <td>../input/chest-xray-pneumonia/chest_xray/val/P...</td>\n",
       "      <td>PNEUMONIA</td>\n",
       "    </tr>\n",
       "    <tr>\n",
       "      <th>1</th>\n",
       "      <td>../input/chest-xray-pneumonia/chest_xray/val/P...</td>\n",
       "      <td>PNEUMONIA</td>\n",
       "    </tr>\n",
       "    <tr>\n",
       "      <th>2</th>\n",
       "      <td>../input/chest-xray-pneumonia/chest_xray/val/P...</td>\n",
       "      <td>PNEUMONIA</td>\n",
       "    </tr>\n",
       "    <tr>\n",
       "      <th>3</th>\n",
       "      <td>../input/chest-xray-pneumonia/chest_xray/val/P...</td>\n",
       "      <td>PNEUMONIA</td>\n",
       "    </tr>\n",
       "    <tr>\n",
       "      <th>4</th>\n",
       "      <td>../input/chest-xray-pneumonia/chest_xray/val/P...</td>\n",
       "      <td>PNEUMONIA</td>\n",
       "    </tr>\n",
       "    <tr>\n",
       "      <th>5</th>\n",
       "      <td>../input/chest-xray-pneumonia/chest_xray/val/P...</td>\n",
       "      <td>PNEUMONIA</td>\n",
       "    </tr>\n",
       "    <tr>\n",
       "      <th>6</th>\n",
       "      <td>../input/chest-xray-pneumonia/chest_xray/val/P...</td>\n",
       "      <td>PNEUMONIA</td>\n",
       "    </tr>\n",
       "    <tr>\n",
       "      <th>7</th>\n",
       "      <td>../input/chest-xray-pneumonia/chest_xray/val/P...</td>\n",
       "      <td>PNEUMONIA</td>\n",
       "    </tr>\n",
       "    <tr>\n",
       "      <th>8</th>\n",
       "      <td>../input/chest-xray-pneumonia/chest_xray/val/N...</td>\n",
       "      <td>NORMAL</td>\n",
       "    </tr>\n",
       "    <tr>\n",
       "      <th>9</th>\n",
       "      <td>../input/chest-xray-pneumonia/chest_xray/val/N...</td>\n",
       "      <td>NORMAL</td>\n",
       "    </tr>\n",
       "    <tr>\n",
       "      <th>10</th>\n",
       "      <td>../input/chest-xray-pneumonia/chest_xray/val/N...</td>\n",
       "      <td>NORMAL</td>\n",
       "    </tr>\n",
       "    <tr>\n",
       "      <th>11</th>\n",
       "      <td>../input/chest-xray-pneumonia/chest_xray/val/N...</td>\n",
       "      <td>NORMAL</td>\n",
       "    </tr>\n",
       "    <tr>\n",
       "      <th>12</th>\n",
       "      <td>../input/chest-xray-pneumonia/chest_xray/val/N...</td>\n",
       "      <td>NORMAL</td>\n",
       "    </tr>\n",
       "    <tr>\n",
       "      <th>13</th>\n",
       "      <td>../input/chest-xray-pneumonia/chest_xray/val/N...</td>\n",
       "      <td>NORMAL</td>\n",
       "    </tr>\n",
       "    <tr>\n",
       "      <th>14</th>\n",
       "      <td>../input/chest-xray-pneumonia/chest_xray/val/N...</td>\n",
       "      <td>NORMAL</td>\n",
       "    </tr>\n",
       "    <tr>\n",
       "      <th>15</th>\n",
       "      <td>../input/chest-xray-pneumonia/chest_xray/val/N...</td>\n",
       "      <td>NORMAL</td>\n",
       "    </tr>\n",
       "  </tbody>\n",
       "</table>\n",
       "</div>"
      ],
      "text/plain": [
       "                                            filepaths      label\n",
       "0   ../input/chest-xray-pneumonia/chest_xray/val/P...  PNEUMONIA\n",
       "1   ../input/chest-xray-pneumonia/chest_xray/val/P...  PNEUMONIA\n",
       "2   ../input/chest-xray-pneumonia/chest_xray/val/P...  PNEUMONIA\n",
       "3   ../input/chest-xray-pneumonia/chest_xray/val/P...  PNEUMONIA\n",
       "4   ../input/chest-xray-pneumonia/chest_xray/val/P...  PNEUMONIA\n",
       "5   ../input/chest-xray-pneumonia/chest_xray/val/P...  PNEUMONIA\n",
       "6   ../input/chest-xray-pneumonia/chest_xray/val/P...  PNEUMONIA\n",
       "7   ../input/chest-xray-pneumonia/chest_xray/val/P...  PNEUMONIA\n",
       "8   ../input/chest-xray-pneumonia/chest_xray/val/N...     NORMAL\n",
       "9   ../input/chest-xray-pneumonia/chest_xray/val/N...     NORMAL\n",
       "10  ../input/chest-xray-pneumonia/chest_xray/val/N...     NORMAL\n",
       "11  ../input/chest-xray-pneumonia/chest_xray/val/N...     NORMAL\n",
       "12  ../input/chest-xray-pneumonia/chest_xray/val/N...     NORMAL\n",
       "13  ../input/chest-xray-pneumonia/chest_xray/val/N...     NORMAL\n",
       "14  ../input/chest-xray-pneumonia/chest_xray/val/N...     NORMAL\n",
       "15  ../input/chest-xray-pneumonia/chest_xray/val/N...     NORMAL"
      ]
     },
     "execution_count": 7,
     "metadata": {},
     "output_type": "execute_result"
    }
   ],
   "source": [
    "valid"
   ]
  },
  {
   "cell_type": "code",
   "execution_count": 8,
   "metadata": {
    "execution": {
     "iopub.execute_input": "2024-03-12T12:49:48.417898Z",
     "iopub.status.busy": "2024-03-12T12:49:48.417603Z",
     "iopub.status.idle": "2024-03-12T12:49:48.603968Z",
     "shell.execute_reply": "2024-03-12T12:49:48.603010Z",
     "shell.execute_reply.started": "2024-03-12T12:49:48.417875Z"
    }
   },
   "outputs": [],
   "source": [
    "test_data_dir = '../input/chest-xray-pneumonia/chest_xray/test'\n",
    "filepaths = []\n",
    "labels = []\n",
    "\n",
    "folds = os.listdir(test_data_dir)\n",
    "\n",
    "for fold in folds:\n",
    "    foldpath = os.path.join(test_data_dir, fold)\n",
    "    filelist = os.listdir(foldpath)\n",
    "    \n",
    "    for file in filelist:\n",
    "        fpath = os.path.join(foldpath, file)\n",
    "        \n",
    "        filepaths.append(fpath)\n",
    "        labels.append(fold)\n",
    "        \n",
    "FSeries = pd.Series(filepaths, name='filepaths')\n",
    "LSeries = pd.Series(labels, name='label')\n",
    "\n",
    "test = pd.concat([FSeries, LSeries], axis=1)"
   ]
  },
  {
   "cell_type": "code",
   "execution_count": 9,
   "metadata": {
    "execution": {
     "iopub.execute_input": "2024-03-12T12:49:48.605461Z",
     "iopub.status.busy": "2024-03-12T12:49:48.605163Z",
     "iopub.status.idle": "2024-03-12T12:49:48.616218Z",
     "shell.execute_reply": "2024-03-12T12:49:48.615233Z",
     "shell.execute_reply.started": "2024-03-12T12:49:48.605440Z"
    }
   },
   "outputs": [
    {
     "data": {
      "text/html": [
       "<div>\n",
       "<style scoped>\n",
       "    .dataframe tbody tr th:only-of-type {\n",
       "        vertical-align: middle;\n",
       "    }\n",
       "\n",
       "    .dataframe tbody tr th {\n",
       "        vertical-align: top;\n",
       "    }\n",
       "\n",
       "    .dataframe thead th {\n",
       "        text-align: right;\n",
       "    }\n",
       "</style>\n",
       "<table border=\"1\" class=\"dataframe\">\n",
       "  <thead>\n",
       "    <tr style=\"text-align: right;\">\n",
       "      <th></th>\n",
       "      <th>filepaths</th>\n",
       "      <th>label</th>\n",
       "    </tr>\n",
       "  </thead>\n",
       "  <tbody>\n",
       "    <tr>\n",
       "      <th>0</th>\n",
       "      <td>../input/chest-xray-pneumonia/chest_xray/test/...</td>\n",
       "      <td>PNEUMONIA</td>\n",
       "    </tr>\n",
       "    <tr>\n",
       "      <th>1</th>\n",
       "      <td>../input/chest-xray-pneumonia/chest_xray/test/...</td>\n",
       "      <td>PNEUMONIA</td>\n",
       "    </tr>\n",
       "    <tr>\n",
       "      <th>2</th>\n",
       "      <td>../input/chest-xray-pneumonia/chest_xray/test/...</td>\n",
       "      <td>PNEUMONIA</td>\n",
       "    </tr>\n",
       "    <tr>\n",
       "      <th>3</th>\n",
       "      <td>../input/chest-xray-pneumonia/chest_xray/test/...</td>\n",
       "      <td>PNEUMONIA</td>\n",
       "    </tr>\n",
       "    <tr>\n",
       "      <th>4</th>\n",
       "      <td>../input/chest-xray-pneumonia/chest_xray/test/...</td>\n",
       "      <td>PNEUMONIA</td>\n",
       "    </tr>\n",
       "    <tr>\n",
       "      <th>...</th>\n",
       "      <td>...</td>\n",
       "      <td>...</td>\n",
       "    </tr>\n",
       "    <tr>\n",
       "      <th>619</th>\n",
       "      <td>../input/chest-xray-pneumonia/chest_xray/test/...</td>\n",
       "      <td>NORMAL</td>\n",
       "    </tr>\n",
       "    <tr>\n",
       "      <th>620</th>\n",
       "      <td>../input/chest-xray-pneumonia/chest_xray/test/...</td>\n",
       "      <td>NORMAL</td>\n",
       "    </tr>\n",
       "    <tr>\n",
       "      <th>621</th>\n",
       "      <td>../input/chest-xray-pneumonia/chest_xray/test/...</td>\n",
       "      <td>NORMAL</td>\n",
       "    </tr>\n",
       "    <tr>\n",
       "      <th>622</th>\n",
       "      <td>../input/chest-xray-pneumonia/chest_xray/test/...</td>\n",
       "      <td>NORMAL</td>\n",
       "    </tr>\n",
       "    <tr>\n",
       "      <th>623</th>\n",
       "      <td>../input/chest-xray-pneumonia/chest_xray/test/...</td>\n",
       "      <td>NORMAL</td>\n",
       "    </tr>\n",
       "  </tbody>\n",
       "</table>\n",
       "<p>624 rows × 2 columns</p>\n",
       "</div>"
      ],
      "text/plain": [
       "                                             filepaths      label\n",
       "0    ../input/chest-xray-pneumonia/chest_xray/test/...  PNEUMONIA\n",
       "1    ../input/chest-xray-pneumonia/chest_xray/test/...  PNEUMONIA\n",
       "2    ../input/chest-xray-pneumonia/chest_xray/test/...  PNEUMONIA\n",
       "3    ../input/chest-xray-pneumonia/chest_xray/test/...  PNEUMONIA\n",
       "4    ../input/chest-xray-pneumonia/chest_xray/test/...  PNEUMONIA\n",
       "..                                                 ...        ...\n",
       "619  ../input/chest-xray-pneumonia/chest_xray/test/...     NORMAL\n",
       "620  ../input/chest-xray-pneumonia/chest_xray/test/...     NORMAL\n",
       "621  ../input/chest-xray-pneumonia/chest_xray/test/...     NORMAL\n",
       "622  ../input/chest-xray-pneumonia/chest_xray/test/...     NORMAL\n",
       "623  ../input/chest-xray-pneumonia/chest_xray/test/...     NORMAL\n",
       "\n",
       "[624 rows x 2 columns]"
      ]
     },
     "execution_count": 9,
     "metadata": {},
     "output_type": "execute_result"
    }
   ],
   "source": [
    "test"
   ]
  },
  {
   "cell_type": "code",
   "execution_count": 10,
   "metadata": {
    "execution": {
     "iopub.execute_input": "2024-03-12T12:49:48.621832Z",
     "iopub.status.busy": "2024-03-12T12:49:48.621303Z",
     "iopub.status.idle": "2024-03-12T12:49:50.172363Z",
     "shell.execute_reply": "2024-03-12T12:49:50.171337Z",
     "shell.execute_reply.started": "2024-03-12T12:49:48.621797Z"
    }
   },
   "outputs": [],
   "source": [
    "from sklearn.model_selection import train_test_split\n",
    "train_df, dummy_df = train_test_split(df, train_size=0.8, shuffle=True, random_state=42)\n",
    "valid_df, test_df = train_test_split(dummy_df, train_size=0.5, shuffle=True, random_state=42)"
   ]
  },
  {
   "cell_type": "code",
   "execution_count": 11,
   "metadata": {
    "execution": {
     "iopub.execute_input": "2024-03-12T12:49:50.174516Z",
     "iopub.status.busy": "2024-03-12T12:49:50.173717Z",
     "iopub.status.idle": "2024-03-12T12:50:01.988962Z",
     "shell.execute_reply": "2024-03-12T12:50:01.988010Z",
     "shell.execute_reply.started": "2024-03-12T12:49:50.174460Z"
    }
   },
   "outputs": [
    {
     "name": "stdout",
     "output_type": "stream",
     "text": [
      "Found 4172 validated image filenames belonging to 2 classes.\n",
      "Found 522 validated image filenames belonging to 2 classes.\n",
      "Found 522 validated image filenames belonging to 2 classes.\n"
     ]
    }
   ],
   "source": [
    "# crobed image size\n",
    "batch_size = 16 * strategy.num_replicas_in_sync\n",
    "img_size = (180,180)\n",
    "\n",
    "tr_gen = ImageDataGenerator(rescale = 1./255)\n",
    "ts_gen = ImageDataGenerator(rescale = 1./255)\n",
    "val_gen= ImageDataGenerator(rescale = 1./255)\n",
    "\n",
    "train_dataset = tr_gen.flow_from_dataframe( train_df, x_col= 'filepaths', y_col= 'label', target_size= img_size, class_mode= 'categorical',\n",
    "                                    color_mode= 'rgb', shuffle= True, batch_size= batch_size)\n",
    "\n",
    "val_dataset= val_gen.flow_from_dataframe( valid_df, x_col= 'filepaths', y_col= 'label', target_size= img_size, class_mode= 'categorical',\n",
    "                                    color_mode= 'rgb', shuffle= True, batch_size= batch_size)\n",
    "\n",
    "test_dataset = ts_gen.flow_from_dataframe( test_df, x_col= 'filepaths', y_col= 'label', target_size= img_size, class_mode= 'categorical',\n",
    "                                    color_mode= 'rgb', shuffle= False, batch_size= batch_size)"
   ]
  },
  {
   "cell_type": "code",
   "execution_count": 12,
   "metadata": {
    "execution": {
     "iopub.execute_input": "2024-03-12T12:50:01.990484Z",
     "iopub.status.busy": "2024-03-12T12:50:01.990199Z",
     "iopub.status.idle": "2024-03-12T12:50:01.995823Z",
     "shell.execute_reply": "2024-03-12T12:50:01.994835Z",
     "shell.execute_reply.started": "2024-03-12T12:50:01.990460Z"
    }
   },
   "outputs": [],
   "source": [
    "# # To directly access the image from folder and take the folder name as the output label of data in that particular folder\n",
    "# train = ImageDataGenerator(rescale = 1./255)\n",
    "# test = ImageDataGenerator(rescale = 1./255)\n",
    "# val = ImageDataGenerator(rescale = 1./255)\n",
    "\n",
    "# train_dataset = train.flow_from_directory('../input/chest-xray-pneumonia/chest_xray/train/',\n",
    "#                                           target_size = (180,180) , # we can change it later according to the need\n",
    "#                                           batch_size = 16 * strategy.num_replicas_in_sync,\n",
    "#                                           shuffle=True,\n",
    "#                                           class_mode = 'binary' )\n",
    "\n",
    "# test_dataset = test.flow_from_directory('../input/chest-xray-pneumonia/chest_xray/test/',\n",
    "#                                           target_size = (180,180) , # we can change it later according to the need\n",
    "#                                           batch_size = 16 * strategy.num_replicas_in_sync,\n",
    "#                                           shuffle=True,\n",
    "#                                           class_mode = 'binary' )\n",
    "\n",
    "# val_dataset = val.flow_from_directory('../input/chest-xray-pneumonia/chest_xray/val/',\n",
    "#                                           target_size = (180,180) , # we can change it later according to the need\n",
    "#                                           batch_size =16 * strategy.num_replicas_in_sync,\n",
    "#                                           shuffle=True,\n",
    "#                                           class_mode = 'binary' )"
   ]
  },
  {
   "cell_type": "code",
   "execution_count": 13,
   "metadata": {
    "execution": {
     "iopub.execute_input": "2024-03-12T12:50:01.997865Z",
     "iopub.status.busy": "2024-03-12T12:50:01.997250Z",
     "iopub.status.idle": "2024-03-12T12:50:02.013492Z",
     "shell.execute_reply": "2024-03-12T12:50:02.012535Z",
     "shell.execute_reply.started": "2024-03-12T12:50:01.997831Z"
    }
   },
   "outputs": [
    {
     "name": "stdout",
     "output_type": "stream",
     "text": [
      "Shape of data: (180, 180, 3)\n"
     ]
    }
   ],
   "source": [
    "# Assuming 'train_dataset' is your dataset object\n",
    "\n",
    "# Get the shape of the data\n",
    "data_shape = train_dataset.image_shape\n",
    "print(\"Shape of data:\", data_shape)\n"
   ]
  },
  {
   "cell_type": "code",
   "execution_count": 14,
   "metadata": {
    "execution": {
     "iopub.execute_input": "2024-03-12T12:50:02.014918Z",
     "iopub.status.busy": "2024-03-12T12:50:02.014595Z",
     "iopub.status.idle": "2024-03-12T12:50:02.026890Z",
     "shell.execute_reply": "2024-03-12T12:50:02.025922Z",
     "shell.execute_reply.started": "2024-03-12T12:50:02.014895Z"
    }
   },
   "outputs": [
    {
     "name": "stdout",
     "output_type": "stream",
     "text": [
      "Number of normal examples: 1050\n",
      "Number of pneumonia examples: 3122\n"
     ]
    }
   ],
   "source": [
    "# Assuming the class names are 'normal' and 'pneumonia'\n",
    "class_indices = train_dataset.class_indices\n",
    "\n",
    "# Count the number of examples for each class\n",
    "num_normal_examples = sum(1 for label in train_dataset.labels if label == class_indices['NORMAL'])\n",
    "num_pneumonia_examples = sum(1 for label in train_dataset.labels if label == class_indices['PNEUMONIA'])\n",
    "\n",
    "print(\"Number of normal examples:\", num_normal_examples)\n",
    "print(\"Number of pneumonia examples:\", num_pneumonia_examples)"
   ]
  },
  {
   "cell_type": "code",
   "execution_count": 15,
   "metadata": {
    "execution": {
     "iopub.execute_input": "2024-03-12T12:50:02.028195Z",
     "iopub.status.busy": "2024-03-12T12:50:02.027932Z",
     "iopub.status.idle": "2024-03-12T12:50:02.044539Z",
     "shell.execute_reply": "2024-03-12T12:50:02.043699Z",
     "shell.execute_reply.started": "2024-03-12T12:50:02.028174Z"
    }
   },
   "outputs": [
    {
     "data": {
      "text/plain": [
       "{'NORMAL': 0, 'PNEUMONIA': 1}"
      ]
     },
     "execution_count": 15,
     "metadata": {},
     "output_type": "execute_result"
    }
   ],
   "source": [
    "train_dataset.class_indices"
   ]
  },
  {
   "cell_type": "code",
   "execution_count": 16,
   "metadata": {
    "execution": {
     "iopub.execute_input": "2024-03-12T12:50:02.046030Z",
     "iopub.status.busy": "2024-03-12T12:50:02.045641Z",
     "iopub.status.idle": "2024-03-12T12:50:02.053678Z",
     "shell.execute_reply": "2024-03-12T12:50:02.052802Z",
     "shell.execute_reply.started": "2024-03-12T12:50:02.045996Z"
    }
   },
   "outputs": [],
   "source": [
    "# train_dataset.classes"
   ]
  },
  {
   "cell_type": "code",
   "execution_count": 17,
   "metadata": {
    "execution": {
     "iopub.execute_input": "2024-03-12T12:50:02.054773Z",
     "iopub.status.busy": "2024-03-12T12:50:02.054552Z",
     "iopub.status.idle": "2024-03-12T12:50:02.063748Z",
     "shell.execute_reply": "2024-03-12T12:50:02.062995Z",
     "shell.execute_reply.started": "2024-03-12T12:50:02.054754Z"
    }
   },
   "outputs": [],
   "source": [
    "# import matplotlib.pyplot as plt\n",
    "\n",
    "# class_names = ['NORMAL', 'PNEUMONIA']\n",
    "\n",
    "# # Retrieve a batch from the dataset\n",
    "# images, labels = next(train_dataset)\n",
    "\n",
    "# # Plot the images\n",
    "# plt.figure(figsize=(70,70))\n",
    "# for i in range(len(images)):\n",
    "#     plt.subplot(10, 10, i + 1)\n",
    "#     plt.xticks([])\n",
    "#     plt.yticks([])\n",
    "#     plt.grid(False)\n",
    "#     plt.imshow(images[i], cmap=plt.cm.binary)\n",
    "#     plt.xlabel(class_names[int(labels[i])], fontsize=40)\n",
    "# plt.show()\n"
   ]
  },
  {
   "cell_type": "code",
   "execution_count": 18,
   "metadata": {
    "execution": {
     "iopub.execute_input": "2024-03-12T12:50:02.064918Z",
     "iopub.status.busy": "2024-03-12T12:50:02.064632Z",
     "iopub.status.idle": "2024-03-12T12:50:02.075121Z",
     "shell.execute_reply": "2024-03-12T12:50:02.074300Z",
     "shell.execute_reply.started": "2024-03-12T12:50:02.064896Z"
    }
   },
   "outputs": [],
   "source": [
    "# Basic model\n",
    "# model = tf.keras.models.Sequential([\n",
    "#     tf.keras.layers.Conv2D(32, (3,3), activation='relu', input_shape=(64,64, 3)),\n",
    "#     tf.keras.layers.MaxPooling2D(2, 2),\n",
    "\n",
    "#     # tf.keras.layers.Conv2D(32, (3,3), activation='relu'),\n",
    "#     # tf.keras.layers.MaxPooling2D(2,2)\n",
    "\n",
    "#     tf.keras.layers.Flatten(),\n",
    "#     tf.keras.layers.Dense(64, activation=tf.nn.relu),\n",
    "#     tf.keras.layers.Dense(1, activation=tf.nn.sigmoid)\n",
    "# ])"
   ]
  },
  {
   "cell_type": "markdown",
   "metadata": {},
   "source": [
    "# Build the CNN"
   ]
  },
  {
   "cell_type": "code",
   "execution_count": 19,
   "metadata": {
    "execution": {
     "iopub.execute_input": "2024-03-12T12:50:02.076507Z",
     "iopub.status.busy": "2024-03-12T12:50:02.076248Z",
     "iopub.status.idle": "2024-03-12T12:50:02.085341Z",
     "shell.execute_reply": "2024-03-12T12:50:02.084464Z",
     "shell.execute_reply.started": "2024-03-12T12:50:02.076484Z"
    }
   },
   "outputs": [],
   "source": [
    "def conv_block(filters):\n",
    "    block = tf.keras.Sequential([\n",
    "        tf.keras.layers.SeparableConv2D(filters,(3,3), activation='relu', padding='same'),\n",
    "        tf.keras.layers.SeparableConv2D(filters,(3,3), activation='relu', padding='same'),\n",
    "        tf.keras.layers.BatchNormalization(),\n",
    "        tf.keras.layers.MaxPool2D((2,2))\n",
    "    ]\n",
    "    )\n",
    "    \n",
    "    return block"
   ]
  },
  {
   "cell_type": "code",
   "execution_count": 20,
   "metadata": {
    "execution": {
     "iopub.execute_input": "2024-03-12T12:50:02.087197Z",
     "iopub.status.busy": "2024-03-12T12:50:02.086620Z",
     "iopub.status.idle": "2024-03-12T12:50:02.096915Z",
     "shell.execute_reply": "2024-03-12T12:50:02.096151Z",
     "shell.execute_reply.started": "2024-03-12T12:50:02.087166Z"
    }
   },
   "outputs": [],
   "source": [
    "def dense_block(units, dropout_rate):\n",
    "    block = tf.keras.Sequential([\n",
    "        tf.keras.layers.Dense(units, activation='relu'),\n",
    "        tf.keras.layers.BatchNormalization(),\n",
    "        tf.keras.layers.Dropout(dropout_rate)\n",
    "    ])\n",
    "    \n",
    "    return block"
   ]
  },
  {
   "cell_type": "code",
   "execution_count": 21,
   "metadata": {
    "execution": {
     "iopub.execute_input": "2024-03-12T12:50:02.098139Z",
     "iopub.status.busy": "2024-03-12T12:50:02.097871Z",
     "iopub.status.idle": "2024-03-12T12:50:02.112478Z",
     "shell.execute_reply": "2024-03-12T12:50:02.111755Z",
     "shell.execute_reply.started": "2024-03-12T12:50:02.098117Z"
    }
   },
   "outputs": [],
   "source": [
    "def build_model():\n",
    "    model = tf.keras.Sequential([\n",
    "        \n",
    "        tf.keras.layers.Conv2D(16,(3,3), activation='relu', padding='same',input_shape=(180,180, 3)),\n",
    "        tf.keras.layers.Conv2D(16,(3,3), activation='relu', padding='same'),\n",
    "        tf.keras.layers.MaxPool2D((2,2)),\n",
    "        \n",
    "        conv_block(32),\n",
    "        conv_block(64),\n",
    "        \n",
    "        conv_block(128),\n",
    "        tf.keras.layers.Dropout(0.2),\n",
    "        \n",
    "        conv_block(256),\n",
    "        tf.keras.layers.Dropout(0.2),\n",
    "        \n",
    "        tf.keras.layers.Flatten(),\n",
    "        dense_block(512, 0.7),\n",
    "        dense_block(128, 0.5),\n",
    "        dense_block(64, 0.3),\n",
    "        \n",
    "        tf.keras.layers.Dense(2, activation='sigmoid') # 2 neural unit not 1\n",
    "    ])\n",
    "    \n",
    "    return model"
   ]
  },
  {
   "cell_type": "markdown",
   "metadata": {},
   "source": [
    "# Correct for data imbalance\n",
    "We saw earlier in this notebook that the data was imbalanced, with more images classified as pneumonia than normal. We will correct for that in this following section."
   ]
  },
  {
   "cell_type": "code",
   "execution_count": 22,
   "metadata": {
    "execution": {
     "iopub.execute_input": "2024-03-12T12:50:02.113774Z",
     "iopub.status.busy": "2024-03-12T12:50:02.113489Z",
     "iopub.status.idle": "2024-03-12T12:50:02.125179Z",
     "shell.execute_reply": "2024-03-12T12:50:02.124266Z",
     "shell.execute_reply.started": "2024-03-12T12:50:02.113752Z"
    }
   },
   "outputs": [
    {
     "data": {
      "text/plain": [
       "array([1.08968366])"
      ]
     },
     "execution_count": 22,
     "metadata": {},
     "output_type": "execute_result"
    }
   ],
   "source": [
    "initial_bias = np.log([num_pneumonia_examples/num_normal_examples])\n",
    "initial_bias"
   ]
  },
  {
   "cell_type": "markdown",
   "metadata": {},
   "source": [
    "An initial bias of approximately 1.067 means that the model is inclined towards predicting the positive class (e.g., presence of pneumonia in medical images) when it starts training. This bias helps the model begin learning with a tendency towards one class over the other."
   ]
  },
  {
   "cell_type": "code",
   "execution_count": 23,
   "metadata": {
    "execution": {
     "iopub.execute_input": "2024-03-12T12:50:02.126740Z",
     "iopub.status.busy": "2024-03-12T12:50:02.126395Z",
     "iopub.status.idle": "2024-03-12T12:50:02.137135Z",
     "shell.execute_reply": "2024-03-12T12:50:02.136119Z",
     "shell.execute_reply.started": "2024-03-12T12:50:02.126719Z"
    }
   },
   "outputs": [
    {
     "name": "stdout",
     "output_type": "stream",
     "text": [
      "Weight for class 0: 1.99\n",
      "Weight for class 1: 0.67\n"
     ]
    }
   ],
   "source": [
    "weight_for_0 = (1 / num_normal_examples)*(num_normal_examples+num_pneumonia_examples)/2.0 \n",
    "weight_for_1 = (1 / num_pneumonia_examples)*(num_normal_examples+num_pneumonia_examples)/2.0\n",
    "\n",
    "class_weight = {0: weight_for_0, 1: weight_for_1}\n",
    "\n",
    "print('Weight for class 0: {:.2f}'.format(weight_for_0))\n",
    "print('Weight for class 1: {:.2f}'.format(weight_for_1))"
   ]
  },
  {
   "cell_type": "markdown",
   "metadata": {},
   "source": [
    "The value of weight_for_1 indicates the weight assigned to the positive class (e.g., images with pneumonia) during training, relative to the total number of pneumonia images and the total training image count.\n",
    "In this context, the weight represents the importance or contribution of each class (e.g., images with pneumonia) during training. By adjusting the weights, you can address class imbalance and ensure that the model effectively learns from all classes, not just the majority class."
   ]
  },
  {
   "cell_type": "markdown",
   "metadata": {},
   "source": [
    "The weight for class 0 (Normal) is a lot higher than the weight for class 1 (Pneumonia). Since When there are fewer images of a particular class, assigning a higher weight to those images during training helps to balance the dataset. This weighting ensures that the model pays more attention to the minority class, thus preventing bias towards the majority class. This approach can improve the model's ability to learn from the imbalanced data and potentially enhance its performance on predicting the minority class.\n",
    "\n",
    "Suppose if weight of class 0 will be less than we have to set higher weight to 0 then 1 so that model not get bias toward class 1 since have less weight and less images or data of class 0\n",
    "\n",
    "set by yourself weight_for_0 and  weight_for_0\n",
    "class_weight = {0: weight_for_0, 1: weight_for_1}\n",
    "\n",
    "model.fit(\n",
    "    train_generator,\n",
    "    steps_per_epoch=len(train_generator),\n",
    "    epochs=10,\n",
    "    class_weight=class_weight\n",
    ")\n"
   ]
  },
  {
   "cell_type": "markdown",
   "metadata": {},
   "source": [
    "# Train the model\n",
    "\n",
    "Since there are only two possible labels for the image, we will be using the binary_crossentropy loss. When we fit the model, identify the class weights. Because we are using a TPU, training will be relatively quick.\n",
    "\n",
    "For our metrics, we want to include precision and recall as they will provide use with a more informed picture of how good our model is. Accuracy tells us what fractions are the labels are correct. Since our data is not balanced, accuracy might give a skewed sense of a good model (i.e. a model that always predicts PNEUMONIA will be 74% accurate but is not a good model).\n",
    "\n",
    "Precision is the number of true positives (TP) over the sum of TP and false positives (FP). It shows what fraction of labeled positives are actually correct.\n",
    "\n",
    "Recall is the number of TP over the sum of TP and false negatves (FN). It shows what fraction of actual positives are correct."
   ]
  },
  {
   "cell_type": "code",
   "execution_count": 24,
   "metadata": {
    "execution": {
     "iopub.execute_input": "2024-03-12T12:50:02.138518Z",
     "iopub.status.busy": "2024-03-12T12:50:02.138185Z",
     "iopub.status.idle": "2024-03-12T12:50:03.542822Z",
     "shell.execute_reply": "2024-03-12T12:50:03.541759Z",
     "shell.execute_reply.started": "2024-03-12T12:50:02.138488Z"
    }
   },
   "outputs": [
    {
     "name": "stderr",
     "output_type": "stream",
     "text": [
      "/opt/conda/lib/python3.10/site-packages/keras/src/layers/convolutional/base_conv.py:99: UserWarning: Do not pass an `input_shape`/`input_dim` argument to a layer. When using Sequential models, prefer using an `Input(shape)` object as the first layer in the model instead.\n",
      "  super().__init__(\n"
     ]
    }
   ],
   "source": [
    "with strategy.scope():\n",
    "    model = build_model()\n",
    "\n",
    "    METRICS = [\n",
    "        'accuracy',\n",
    "        tf.keras.metrics.Precision(name='precision'),\n",
    "        tf.keras.metrics.Recall(name='recall'),\n",
    "        tf.keras.metrics.BinaryAccuracy(name='f1_score', threshold=0.5)\n",
    "    ]\n",
    "    \n",
    "    model.compile(\n",
    "        optimizer='adam',\n",
    "        loss='binary_crossentropy',\n",
    "        metrics=METRICS\n",
    "    )"
   ]
  },
  {
   "cell_type": "code",
   "execution_count": 25,
   "metadata": {
    "execution": {
     "iopub.execute_input": "2024-03-12T12:50:03.544457Z",
     "iopub.status.busy": "2024-03-12T12:50:03.544102Z",
     "iopub.status.idle": "2024-03-12T12:50:03.549024Z",
     "shell.execute_reply": "2024-03-12T12:50:03.548167Z",
     "shell.execute_reply.started": "2024-03-12T12:50:03.544426Z"
    }
   },
   "outputs": [],
   "source": [
    "# EPOCHS =30  #100 # 25 \n",
    "# history2 = model.fit(\n",
    "#     train_dataset,\n",
    "#     epochs=EPOCHS,\n",
    "#     validation_data=val_dataset,\n",
    "#     class_weight=class_weight,,\n",
    "#     shuffle = False,\n",
    "#     verbose= 1\n",
    "# )"
   ]
  },
  {
   "cell_type": "markdown",
   "metadata": {},
   "source": [
    "From exploring the data and the model, I noticed that the training for the model has a slow start. However, after 25 epochs, the model slowly starts to converge."
   ]
  },
  {
   "cell_type": "markdown",
   "metadata": {},
   "source": [
    "# Finetune the model\n",
    "Finetuning is an art when it comes to Machine Learning, and there are many ways to adjust the model in efforts to improve it. Finetuning is beyond the scope of this notebook, but check out this article https://pyimagesearch.com/2019/06/03/fine-tuning-with-keras-and-deep-learning/ for more information.\n",
    "\n",
    "For our purposes, we'll use Keras callbacks to further finetune our model. The checkpoint callback saves the best weights of the model, so next time we want to use the model, we do not have to spend time training it. The early stopping callback stops the training process when the model starts becoming stagnant, or even worse, when the model starts overfitting. Since we set restore_best_weights to True, the returned model at the end of the training process will be the model with the best weights (i.e. low loss and high accuracy)."
   ]
  },
  {
   "cell_type": "code",
   "execution_count": 26,
   "metadata": {
    "execution": {
     "iopub.execute_input": "2024-03-12T12:50:03.550396Z",
     "iopub.status.busy": "2024-03-12T12:50:03.550137Z",
     "iopub.status.idle": "2024-03-12T12:50:03.563564Z",
     "shell.execute_reply": "2024-03-12T12:50:03.562361Z",
     "shell.execute_reply.started": "2024-03-12T12:50:03.550374Z"
    }
   },
   "outputs": [],
   "source": [
    "checkpoint_cb = tf.keras.callbacks.ModelCheckpoint(\"xray_model.keras\",\n",
    "                                                    save_best_only=True)\n",
    "\n",
    "# early_stopping_cb = tf.keras.callbacks.EarlyStopping(patience=20,\n",
    "#                                                      restore_best_weights=True)"
   ]
  },
  {
   "cell_type": "markdown",
   "metadata": {},
   "source": [
    "We also want to finetune our learning rate. Too high of a learning rate will cause the model to diverge. Too small of a learning rate will cause the model to be too slow. We implement the exponential learning rate scheduling method below."
   ]
  },
  {
   "cell_type": "code",
   "execution_count": 27,
   "metadata": {
    "execution": {
     "iopub.execute_input": "2024-03-12T12:50:03.565277Z",
     "iopub.status.busy": "2024-03-12T12:50:03.564919Z",
     "iopub.status.idle": "2024-03-12T12:50:03.583151Z",
     "shell.execute_reply": "2024-03-12T12:50:03.582116Z",
     "shell.execute_reply.started": "2024-03-12T12:50:03.565249Z"
    }
   },
   "outputs": [],
   "source": [
    "def exponential_decay(lr0, s):\n",
    "    def exponential_decay_fn(epoch):\n",
    "        return lr0 * 0.1 **(epoch / s)\n",
    "    return exponential_decay_fn\n",
    "\n",
    "exponential_decay_fn = exponential_decay(0.01, 20)\n",
    "\n",
    "lr_scheduler = tf.keras.callbacks.LearningRateScheduler(exponential_decay_fn)"
   ]
  },
  {
   "cell_type": "markdown",
   "metadata": {},
   "source": [
    "Learning rate scheduler using exponential decay.\n",
    "This scheduler gradually reduces the learning rate over epochs, which can help stabilize the training process and improve convergence."
   ]
  },
  {
   "cell_type": "code",
   "execution_count": 28,
   "metadata": {
    "execution": {
     "iopub.execute_input": "2024-03-12T12:50:03.588601Z",
     "iopub.status.busy": "2024-03-12T12:50:03.588283Z",
     "iopub.status.idle": "2024-03-12T13:14:06.241714Z",
     "shell.execute_reply": "2024-03-12T13:14:06.240945Z",
     "shell.execute_reply.started": "2024-03-12T12:50:03.588575Z"
    }
   },
   "outputs": [
    {
     "name": "stdout",
     "output_type": "stream",
     "text": [
      "Epoch 1/30\n"
     ]
    },
    {
     "name": "stderr",
     "output_type": "stream",
     "text": [
      "/opt/conda/lib/python3.10/site-packages/keras/src/trainers/data_adapters/py_dataset_adapter.py:122: UserWarning: Your `PyDataset` class should call `super().__init__(**kwargs)` in its constructor. `**kwargs` can include `workers`, `use_multiprocessing`, `max_queue_size`. Do not pass these arguments to `fit()`, as they will be ignored.\n",
      "  self._warn_if_super_not_called()\n"
     ]
    },
    {
     "name": "stdout",
     "output_type": "stream",
     "text": [
      "\u001b[1m  1/261\u001b[0m \u001b[37m━━━━━━━━━━━━━━━━━━━━\u001b[0m \u001b[1m2:15:37\u001b[0m 31s/step - accuracy: 0.5000 - f1_score: 0.5625 - loss: 0.5974 - precision: 0.5556 - recall: 0.6250"
     ]
    },
    {
     "name": "stderr",
     "output_type": "stream",
     "text": [
      "WARNING: All log messages before absl::InitializeLog() is called are written to STDERR\n",
      "I0000 00:00:1710247835.406042      89 device_compiler.h:186] Compiled cluster using XLA!  This line is logged at most once for the lifetime of the process.\n",
      "W0000 00:00:1710247835.437815      89 graph_launch.cc:671] Fallback to op-by-op mode because memset node breaks graph update\n"
     ]
    },
    {
     "name": "stdout",
     "output_type": "stream",
     "text": [
      "\u001b[1m261/261\u001b[0m \u001b[32m━━━━━━━━━━━━━━━━━━━━\u001b[0m\u001b[37m\u001b[0m \u001b[1m0s\u001b[0m 358ms/step - accuracy: 0.7537 - f1_score: 0.7442 - loss: 0.5150 - precision: 0.7451 - recall: 0.7430"
     ]
    },
    {
     "name": "stderr",
     "output_type": "stream",
     "text": [
      "W0000 00:00:1710247928.407258      87 graph_launch.cc:671] Fallback to op-by-op mode because memset node breaks graph update\n",
      "W0000 00:00:1710247930.514587      88 graph_launch.cc:671] Fallback to op-by-op mode because memset node breaks graph update\n",
      "W0000 00:00:1710247942.309662      87 graph_launch.cc:671] Fallback to op-by-op mode because memset node breaks graph update\n"
     ]
    },
    {
     "name": "stdout",
     "output_type": "stream",
     "text": [
      "\u001b[1m261/261\u001b[0m \u001b[32m━━━━━━━━━━━━━━━━━━━━\u001b[0m\u001b[37m\u001b[0m \u001b[1m138s\u001b[0m 412ms/step - accuracy: 0.7540 - f1_score: 0.7445 - loss: 0.5145 - precision: 0.7454 - recall: 0.7433 - val_accuracy: 0.8429 - val_f1_score: 0.8410 - val_loss: 0.4347 - val_precision: 0.8384 - val_recall: 0.8448 - learning_rate: 0.0100\n",
      "Epoch 2/30\n",
      "\u001b[1m261/261\u001b[0m \u001b[32m━━━━━━━━━━━━━━━━━━━━\u001b[0m\u001b[37m\u001b[0m \u001b[1m45s\u001b[0m 173ms/step - accuracy: 0.8861 - f1_score: 0.8843 - loss: 0.2810 - precision: 0.8852 - recall: 0.8832 - val_accuracy: 0.2625 - val_f1_score: 0.2634 - val_loss: 5.1428 - val_precision: 0.2630 - val_recall: 0.2625 - learning_rate: 0.0089\n",
      "Epoch 3/30\n",
      "\u001b[1m261/261\u001b[0m \u001b[32m━━━━━━━━━━━━━━━━━━━━\u001b[0m\u001b[37m\u001b[0m \u001b[1m46s\u001b[0m 175ms/step - accuracy: 0.9017 - f1_score: 0.9008 - loss: 0.2523 - precision: 0.9017 - recall: 0.8998 - val_accuracy: 0.9138 - val_f1_score: 0.9138 - val_loss: 0.2890 - val_precision: 0.9138 - val_recall: 0.9138 - learning_rate: 0.0079\n",
      "Epoch 4/30\n",
      "\u001b[1m261/261\u001b[0m \u001b[32m━━━━━━━━━━━━━━━━━━━━\u001b[0m\u001b[37m\u001b[0m \u001b[1m45s\u001b[0m 174ms/step - accuracy: 0.9341 - f1_score: 0.9338 - loss: 0.1763 - precision: 0.9340 - recall: 0.9337 - val_accuracy: 0.9444 - val_f1_score: 0.9444 - val_loss: 0.1593 - val_precision: 0.9444 - val_recall: 0.9444 - learning_rate: 0.0071\n",
      "Epoch 5/30\n",
      "\u001b[1m261/261\u001b[0m \u001b[32m━━━━━━━━━━━━━━━━━━━━\u001b[0m\u001b[37m\u001b[0m \u001b[1m46s\u001b[0m 174ms/step - accuracy: 0.9279 - f1_score: 0.9281 - loss: 0.1915 - precision: 0.9275 - recall: 0.9288 - val_accuracy: 0.9368 - val_f1_score: 0.9368 - val_loss: 0.1470 - val_precision: 0.9368 - val_recall: 0.9368 - learning_rate: 0.0063\n",
      "Epoch 6/30\n",
      "\u001b[1m261/261\u001b[0m \u001b[32m━━━━━━━━━━━━━━━━━━━━\u001b[0m\u001b[37m\u001b[0m \u001b[1m45s\u001b[0m 173ms/step - accuracy: 0.9350 - f1_score: 0.9351 - loss: 0.1750 - precision: 0.9353 - recall: 0.9350 - val_accuracy: 0.7739 - val_f1_score: 0.7749 - val_loss: 0.7351 - val_precision: 0.7744 - val_recall: 0.7759 - learning_rate: 0.0056\n",
      "Epoch 7/30\n",
      "\u001b[1m261/261\u001b[0m \u001b[32m━━━━━━━━━━━━━━━━━━━━\u001b[0m\u001b[37m\u001b[0m \u001b[1m45s\u001b[0m 171ms/step - accuracy: 0.9143 - f1_score: 0.9155 - loss: 0.2053 - precision: 0.9155 - recall: 0.9156 - val_accuracy: 0.7414 - val_f1_score: 0.7404 - val_loss: 2.2715 - val_precision: 0.7400 - val_recall: 0.7414 - learning_rate: 0.0050\n",
      "Epoch 8/30\n",
      "\u001b[1m261/261\u001b[0m \u001b[32m━━━━━━━━━━━━━━━━━━━━\u001b[0m\u001b[37m\u001b[0m \u001b[1m45s\u001b[0m 172ms/step - accuracy: 0.9348 - f1_score: 0.9348 - loss: 0.1525 - precision: 0.9343 - recall: 0.9355 - val_accuracy: 0.9713 - val_f1_score: 0.9713 - val_loss: 0.0694 - val_precision: 0.9713 - val_recall: 0.9713 - learning_rate: 0.0045\n",
      "Epoch 9/30\n",
      "\u001b[1m261/261\u001b[0m \u001b[32m━━━━━━━━━━━━━━━━━━━━\u001b[0m\u001b[37m\u001b[0m \u001b[1m45s\u001b[0m 171ms/step - accuracy: 0.9423 - f1_score: 0.9422 - loss: 0.1455 - precision: 0.9421 - recall: 0.9423 - val_accuracy: 0.9617 - val_f1_score: 0.9617 - val_loss: 0.1076 - val_precision: 0.9617 - val_recall: 0.9617 - learning_rate: 0.0040\n",
      "Epoch 10/30\n",
      "\u001b[1m261/261\u001b[0m \u001b[32m━━━━━━━━━━━━━━━━━━━━\u001b[0m\u001b[37m\u001b[0m \u001b[1m45s\u001b[0m 172ms/step - accuracy: 0.9533 - f1_score: 0.9528 - loss: 0.1309 - precision: 0.9525 - recall: 0.9533 - val_accuracy: 0.7433 - val_f1_score: 0.7433 - val_loss: 1.9942 - val_precision: 0.7433 - val_recall: 0.7433 - learning_rate: 0.0035\n",
      "Epoch 11/30\n",
      "\u001b[1m261/261\u001b[0m \u001b[32m━━━━━━━━━━━━━━━━━━━━\u001b[0m\u001b[37m\u001b[0m \u001b[1m45s\u001b[0m 171ms/step - accuracy: 0.9638 - f1_score: 0.9642 - loss: 0.0877 - precision: 0.9644 - recall: 0.9640 - val_accuracy: 0.9387 - val_f1_score: 0.9387 - val_loss: 0.1796 - val_precision: 0.9387 - val_recall: 0.9387 - learning_rate: 0.0032\n",
      "Epoch 12/30\n",
      "\u001b[1m261/261\u001b[0m \u001b[32m━━━━━━━━━━━━━━━━━━━━\u001b[0m\u001b[37m\u001b[0m \u001b[1m45s\u001b[0m 172ms/step - accuracy: 0.9663 - f1_score: 0.9664 - loss: 0.0939 - precision: 0.9662 - recall: 0.9665 - val_accuracy: 0.9464 - val_f1_score: 0.9464 - val_loss: 0.1756 - val_precision: 0.9464 - val_recall: 0.9464 - learning_rate: 0.0028\n",
      "Epoch 13/30\n",
      "\u001b[1m261/261\u001b[0m \u001b[32m━━━━━━━━━━━━━━━━━━━━\u001b[0m\u001b[37m\u001b[0m \u001b[1m45s\u001b[0m 172ms/step - accuracy: 0.9634 - f1_score: 0.9636 - loss: 0.0950 - precision: 0.9637 - recall: 0.9634 - val_accuracy: 0.9310 - val_f1_score: 0.9310 - val_loss: 0.1461 - val_precision: 0.9310 - val_recall: 0.9310 - learning_rate: 0.0025\n",
      "Epoch 14/30\n",
      "\u001b[1m261/261\u001b[0m \u001b[32m━━━━━━━━━━━━━━━━━━━━\u001b[0m\u001b[37m\u001b[0m \u001b[1m45s\u001b[0m 172ms/step - accuracy: 0.9656 - f1_score: 0.9656 - loss: 0.0950 - precision: 0.9656 - recall: 0.9656 - val_accuracy: 0.9483 - val_f1_score: 0.9483 - val_loss: 0.1343 - val_precision: 0.9483 - val_recall: 0.9483 - learning_rate: 0.0022\n",
      "Epoch 15/30\n",
      "\u001b[1m261/261\u001b[0m \u001b[32m━━━━━━━━━━━━━━━━━━━━\u001b[0m\u001b[37m\u001b[0m \u001b[1m45s\u001b[0m 171ms/step - accuracy: 0.9682 - f1_score: 0.9678 - loss: 0.0902 - precision: 0.9679 - recall: 0.9678 - val_accuracy: 0.9521 - val_f1_score: 0.9521 - val_loss: 0.2074 - val_precision: 0.9521 - val_recall: 0.9521 - learning_rate: 0.0020\n",
      "Epoch 16/30\n",
      "\u001b[1m261/261\u001b[0m \u001b[32m━━━━━━━━━━━━━━━━━━━━\u001b[0m\u001b[37m\u001b[0m \u001b[1m45s\u001b[0m 172ms/step - accuracy: 0.9661 - f1_score: 0.9661 - loss: 0.0807 - precision: 0.9661 - recall: 0.9661 - val_accuracy: 0.9483 - val_f1_score: 0.9483 - val_loss: 0.1540 - val_precision: 0.9483 - val_recall: 0.9483 - learning_rate: 0.0018\n",
      "Epoch 17/30\n",
      "\u001b[1m261/261\u001b[0m \u001b[32m━━━━━━━━━━━━━━━━━━━━\u001b[0m\u001b[37m\u001b[0m \u001b[1m45s\u001b[0m 173ms/step - accuracy: 0.9721 - f1_score: 0.9721 - loss: 0.0742 - precision: 0.9721 - recall: 0.9721 - val_accuracy: 0.9617 - val_f1_score: 0.9607 - val_loss: 0.0988 - val_precision: 0.9598 - val_recall: 0.9617 - learning_rate: 0.0016\n",
      "Epoch 18/30\n",
      "\u001b[1m261/261\u001b[0m \u001b[32m━━━━━━━━━━━━━━━━━━━━\u001b[0m\u001b[37m\u001b[0m \u001b[1m45s\u001b[0m 172ms/step - accuracy: 0.9699 - f1_score: 0.9701 - loss: 0.0840 - precision: 0.9703 - recall: 0.9699 - val_accuracy: 0.9751 - val_f1_score: 0.9751 - val_loss: 0.0720 - val_precision: 0.9751 - val_recall: 0.9751 - learning_rate: 0.0014\n",
      "Epoch 19/30\n",
      "\u001b[1m261/261\u001b[0m \u001b[32m━━━━━━━━━━━━━━━━━━━━\u001b[0m\u001b[37m\u001b[0m \u001b[1m44s\u001b[0m 169ms/step - accuracy: 0.9785 - f1_score: 0.9785 - loss: 0.0656 - precision: 0.9785 - recall: 0.9785 - val_accuracy: 0.9674 - val_f1_score: 0.9674 - val_loss: 0.0938 - val_precision: 0.9674 - val_recall: 0.9674 - learning_rate: 0.0013\n",
      "Epoch 20/30\n",
      "\u001b[1m261/261\u001b[0m \u001b[32m━━━━━━━━━━━━━━━━━━━━\u001b[0m\u001b[37m\u001b[0m \u001b[1m45s\u001b[0m 174ms/step - accuracy: 0.9775 - f1_score: 0.9775 - loss: 0.0860 - precision: 0.9775 - recall: 0.9774 - val_accuracy: 0.9655 - val_f1_score: 0.9655 - val_loss: 0.1032 - val_precision: 0.9655 - val_recall: 0.9655 - learning_rate: 0.0011\n",
      "Epoch 21/30\n",
      "\u001b[1m261/261\u001b[0m \u001b[32m━━━━━━━━━━━━━━━━━━━━\u001b[0m\u001b[37m\u001b[0m \u001b[1m45s\u001b[0m 172ms/step - accuracy: 0.9734 - f1_score: 0.9732 - loss: 0.0763 - precision: 0.9731 - recall: 0.9734 - val_accuracy: 0.9693 - val_f1_score: 0.9693 - val_loss: 0.0699 - val_precision: 0.9693 - val_recall: 0.9693 - learning_rate: 0.0010\n",
      "Epoch 22/30\n",
      "\u001b[1m261/261\u001b[0m \u001b[32m━━━━━━━━━━━━━━━━━━━━\u001b[0m\u001b[37m\u001b[0m \u001b[1m45s\u001b[0m 173ms/step - accuracy: 0.9841 - f1_score: 0.9842 - loss: 0.0814 - precision: 0.9844 - recall: 0.9841 - val_accuracy: 0.9751 - val_f1_score: 0.9751 - val_loss: 0.0639 - val_precision: 0.9751 - val_recall: 0.9751 - learning_rate: 8.9125e-04\n",
      "Epoch 23/30\n",
      "\u001b[1m261/261\u001b[0m \u001b[32m━━━━━━━━━━━━━━━━━━━━\u001b[0m\u001b[37m\u001b[0m \u001b[1m44s\u001b[0m 168ms/step - accuracy: 0.9840 - f1_score: 0.9840 - loss: 0.0467 - precision: 0.9840 - recall: 0.9840 - val_accuracy: 0.9770 - val_f1_score: 0.9770 - val_loss: 0.0940 - val_precision: 0.9770 - val_recall: 0.9770 - learning_rate: 7.9433e-04\n",
      "Epoch 24/30\n",
      "\u001b[1m261/261\u001b[0m \u001b[32m━━━━━━━━━━━━━━━━━━━━\u001b[0m\u001b[37m\u001b[0m \u001b[1m45s\u001b[0m 173ms/step - accuracy: 0.9818 - f1_score: 0.9818 - loss: 0.0584 - precision: 0.9818 - recall: 0.9818 - val_accuracy: 0.9732 - val_f1_score: 0.9732 - val_loss: 0.1022 - val_precision: 0.9732 - val_recall: 0.9732 - learning_rate: 7.0795e-04\n",
      "Epoch 25/30\n",
      "\u001b[1m261/261\u001b[0m \u001b[32m━━━━━━━━━━━━━━━━━━━━\u001b[0m\u001b[37m\u001b[0m \u001b[1m45s\u001b[0m 171ms/step - accuracy: 0.9905 - f1_score: 0.9905 - loss: 0.0430 - precision: 0.9905 - recall: 0.9905 - val_accuracy: 0.9693 - val_f1_score: 0.9693 - val_loss: 0.1281 - val_precision: 0.9693 - val_recall: 0.9693 - learning_rate: 6.3096e-04\n",
      "Epoch 26/30\n",
      "\u001b[1m261/261\u001b[0m \u001b[32m━━━━━━━━━━━━━━━━━━━━\u001b[0m\u001b[37m\u001b[0m \u001b[1m45s\u001b[0m 173ms/step - accuracy: 0.9835 - f1_score: 0.9835 - loss: 0.0475 - precision: 0.9835 - recall: 0.9835 - val_accuracy: 0.9713 - val_f1_score: 0.9713 - val_loss: 0.1411 - val_precision: 0.9713 - val_recall: 0.9713 - learning_rate: 5.6234e-04\n",
      "Epoch 27/30\n",
      "\u001b[1m261/261\u001b[0m \u001b[32m━━━━━━━━━━━━━━━━━━━━\u001b[0m\u001b[37m\u001b[0m \u001b[1m45s\u001b[0m 171ms/step - accuracy: 0.9854 - f1_score: 0.9854 - loss: 0.0410 - precision: 0.9854 - recall: 0.9854 - val_accuracy: 0.9713 - val_f1_score: 0.9713 - val_loss: 0.0931 - val_precision: 0.9713 - val_recall: 0.9713 - learning_rate: 5.0119e-04\n",
      "Epoch 28/30\n",
      "\u001b[1m261/261\u001b[0m \u001b[32m━━━━━━━━━━━━━━━━━━━━\u001b[0m\u001b[37m\u001b[0m \u001b[1m44s\u001b[0m 170ms/step - accuracy: 0.9902 - f1_score: 0.9902 - loss: 0.0259 - precision: 0.9902 - recall: 0.9902 - val_accuracy: 0.9713 - val_f1_score: 0.9713 - val_loss: 0.1021 - val_precision: 0.9713 - val_recall: 0.9713 - learning_rate: 4.4668e-04\n",
      "Epoch 29/30\n",
      "\u001b[1m261/261\u001b[0m \u001b[32m━━━━━━━━━━━━━━━━━━━━\u001b[0m\u001b[37m\u001b[0m \u001b[1m45s\u001b[0m 173ms/step - accuracy: 0.9892 - f1_score: 0.9892 - loss: 0.0381 - precision: 0.9892 - recall: 0.9892 - val_accuracy: 0.9732 - val_f1_score: 0.9732 - val_loss: 0.0982 - val_precision: 0.9732 - val_recall: 0.9732 - learning_rate: 3.9811e-04\n",
      "Epoch 30/30\n",
      "\u001b[1m261/261\u001b[0m \u001b[32m━━━━━━━━━━━━━━━━━━━━\u001b[0m\u001b[37m\u001b[0m \u001b[1m45s\u001b[0m 172ms/step - accuracy: 0.9878 - f1_score: 0.9878 - loss: 0.0363 - precision: 0.9878 - recall: 0.9878 - val_accuracy: 0.9732 - val_f1_score: 0.9732 - val_loss: 0.0880 - val_precision: 0.9732 - val_recall: 0.9732 - learning_rate: 3.5481e-04\n"
     ]
    }
   ],
   "source": [
    "EPOCHS =30  #100 # 25 \n",
    "history2 = model.fit(\n",
    "    train_dataset,\n",
    "    epochs=EPOCHS,\n",
    "    validation_data=val_dataset,\n",
    "    class_weight=class_weight,\n",
    "#     callbacks=[checkpoint_cb, early_stopping_cb, lr_scheduler]\n",
    "    callbacks=[checkpoint_cb, lr_scheduler],\n",
    "    shuffle = False,\n",
    "    verbose= 1\n",
    ")"
   ]
  },
  {
   "cell_type": "code",
   "execution_count": 29,
   "metadata": {
    "execution": {
     "iopub.execute_input": "2024-03-12T13:14:06.243301Z",
     "iopub.status.busy": "2024-03-12T13:14:06.243031Z",
     "iopub.status.idle": "2024-03-12T13:14:07.438838Z",
     "shell.execute_reply": "2024-03-12T13:14:07.437729Z",
     "shell.execute_reply.started": "2024-03-12T13:14:06.243277Z"
    }
   },
   "outputs": [
    {
     "data": {
      "image/png": "[encoded data removed]",
      "text/plain": [
       "<Figure size 2000x500 with 4 Axes>"
      ]
     },
     "metadata": {},
     "output_type": "display_data"
    }
   ],
   "source": [
    "fig, ax = plt.subplots(1, 4, figsize=(20,5))\n",
    "ax = ax.ravel()\n",
    "\n",
    "for i, met in enumerate(['precision', 'recall', 'accuracy', 'loss']):\n",
    "    ax[i].plot(history2.history[met])\n",
    "    ax[i].plot(history2.history['val_' + met])\n",
    "    ax[i].set_title('Model {}'.format(met))\n",
    "    ax[i].set_xlabel('epochs')\n",
    "    ax[i].set_ylabel(met)\n",
    "    ax[i].legend(['train', 'val'])"
   ]
  },
  {
   "cell_type": "markdown",
   "metadata": {},
   "source": [
    "# Predict and evaluate results\n",
    "Let's evaluate the model on our test data!"
   ]
  },
  {
   "cell_type": "code",
   "execution_count": 30,
   "metadata": {
    "execution": {
     "iopub.execute_input": "2024-03-12T13:14:07.440384Z",
     "iopub.status.busy": "2024-03-12T13:14:07.440063Z",
     "iopub.status.idle": "2024-03-12T13:14:18.721966Z",
     "shell.execute_reply": "2024-03-12T13:14:18.721087Z",
     "shell.execute_reply.started": "2024-03-12T13:14:07.440356Z"
    }
   },
   "outputs": [
    {
     "name": "stdout",
     "output_type": "stream",
     "text": [
      "\u001b[1m33/33\u001b[0m \u001b[32m━━━━━━━━━━━━━━━━━━━━\u001b[0m\u001b[37m\u001b[0m \u001b[1m11s\u001b[0m 334ms/step - accuracy: 0.9931 - f1_score: 0.9931 - loss: 0.0198 - precision: 0.9931 - recall: 0.9931\n"
     ]
    }
   ],
   "source": [
    "loss, acc, prec, rec, f1 = model.evaluate(test_dataset)"
   ]
  },
  {
   "cell_type": "code",
   "execution_count": 31,
   "metadata": {
    "execution": {
     "iopub.execute_input": "2024-03-12T13:14:18.723459Z",
     "iopub.status.busy": "2024-03-12T13:14:18.723205Z",
     "iopub.status.idle": "2024-03-12T13:14:28.159581Z",
     "shell.execute_reply": "2024-03-12T13:14:28.158653Z",
     "shell.execute_reply.started": "2024-03-12T13:14:18.723437Z"
    }
   },
   "outputs": [
    {
     "name": "stdout",
     "output_type": "stream",
     "text": [
      "\u001b[1m 1/33\u001b[0m \u001b[37m━━━━━━━━━━━━━━━━━━━━\u001b[0m \u001b[1m1:02\u001b[0m 2s/step - accuracy: 1.0000 - f1_score: 1.0000 - loss: 0.0066 - precision: 1.0000 - recall: 1.0000"
     ]
    },
    {
     "name": "stderr",
     "output_type": "stream",
     "text": [
      "W0000 00:00:1710249262.493150      86 graph_launch.cc:671] Fallback to op-by-op mode because memset node breaks graph update\n"
     ]
    },
    {
     "name": "stdout",
     "output_type": "stream",
     "text": [
      "\u001b[1m33/33\u001b[0m \u001b[32m━━━━━━━━━━━━━━━━━━━━\u001b[0m\u001b[37m\u001b[0m \u001b[1m8s\u001b[0m 177ms/step - accuracy: 0.9961 - f1_score: 0.9961 - loss: 0.0186 - precision: 0.9961 - recall: 0.9961\n"
     ]
    },
    {
     "name": "stderr",
     "output_type": "stream",
     "text": [
      "W0000 00:00:1710249268.141924      87 graph_launch.cc:671] Fallback to op-by-op mode because memset node breaks graph update\n"
     ]
    }
   ],
   "source": [
    "# Load the model saved by ModelCheckpoint\n",
    "checkpoint_model = tf.keras.models.load_model(\"xray_model.keras\")\n",
    "\n",
    "# Evaluate the checkpoint model\n",
    "loss, acc, prec, rec, f1= checkpoint_model.evaluate(test_dataset)\n"
   ]
  }
 ],
 "metadata": {
  "kaggle": {
   "accelerator": "nvidiaTeslaT4",
   "dataSources": [
    {
     "datasetId": 17810,
     "sourceId": 23812,
     "sourceType": "datasetVersion"
    },
    {
     "datasetId": 4543794,
     "sourceId": 7767677,
     "sourceType": "datasetVersion"
    }
   ],
   "isGpuEnabled": true,
   "isInternetEnabled": false,
   "language": "python",
   "sourceType": "notebook"
  },
  "kernelspec": {
   "display_name": "Python 3 (ipykernel)",
   "language": "python",
   "name": "python3"
  },
  "language_info": {
   "codemirror_mode": {
    "name": "ipython",
    "version": 3
   },
   "file_extension": ".py",
   "mimetype": "text/x-python",
   "name": "python",
   "nbconvert_exporter": "python",
   "pygments_lexer": "ipython3",
   "version": "3.11.5"
  }
 },
 "nbformat": 4,
 "nbformat_minor": 4
}
